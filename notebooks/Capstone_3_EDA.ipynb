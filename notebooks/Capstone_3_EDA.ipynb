{
 "cells": [
  {
   "cell_type": "markdown",
   "metadata": {},
   "source": [
    "# Capstone 3 - EDA"
   ]
  },
  {
   "cell_type": "code",
   "execution_count": 1,
   "metadata": {},
   "outputs": [],
   "source": [
    "import pandas as pd\n",
    "import numpy as np\n",
    "import matplotlib.pyplot as plt\n",
    "%matplotlib inline\n",
    "import seaborn as sns\n",
    "import os"
   ]
  },
  {
   "cell_type": "code",
   "execution_count": 3,
   "metadata": {},
   "outputs": [
    {
     "data": {
      "text/html": [
       "<div>\n",
       "<style scoped>\n",
       "    .dataframe tbody tr th:only-of-type {\n",
       "        vertical-align: middle;\n",
       "    }\n",
       "\n",
       "    .dataframe tbody tr th {\n",
       "        vertical-align: top;\n",
       "    }\n",
       "\n",
       "    .dataframe thead th {\n",
       "        text-align: right;\n",
       "    }\n",
       "</style>\n",
       "<table border=\"1\" class=\"dataframe\">\n",
       "  <thead>\n",
       "    <tr style=\"text-align: right;\">\n",
       "      <th></th>\n",
       "      <th>Product</th>\n",
       "      <th>Issue</th>\n",
       "      <th>complaint_text</th>\n",
       "      <th>Company</th>\n",
       "      <th>State</th>\n",
       "      <th>company_response</th>\n",
       "      <th>disputed</th>\n",
       "      <th>complaint_ID</th>\n",
       "      <th>sentences</th>\n",
       "      <th>words</th>\n",
       "      <th>special_chars</th>\n",
       "      <th>preprocessed_complaint</th>\n",
       "      <th>polarity</th>\n",
       "    </tr>\n",
       "  </thead>\n",
       "  <tbody>\n",
       "    <tr>\n",
       "      <th>0</th>\n",
       "      <td>Credit reporting</td>\n",
       "      <td>Incorrect information on credit report</td>\n",
       "      <td>I have outdated information on my credit repor...</td>\n",
       "      <td>TRANSUNION INTERMEDIATE HOLDINGS, INC.</td>\n",
       "      <td>AL</td>\n",
       "      <td>Closed with explanation</td>\n",
       "      <td>No</td>\n",
       "      <td>2141773</td>\n",
       "      <td>1</td>\n",
       "      <td>34</td>\n",
       "      <td>0</td>\n",
       "      <td>['outdated', 'information', 'credit', 'report'...</td>\n",
       "      <td>-0.155556</td>\n",
       "    </tr>\n",
       "    <tr>\n",
       "      <th>1</th>\n",
       "      <td>Consumer Loan</td>\n",
       "      <td>Managing the loan or lease</td>\n",
       "      <td>I purchased a new car on XXXX XXXX. The car de...</td>\n",
       "      <td>CITIZENS FINANCIAL GROUP, INC.</td>\n",
       "      <td>PA</td>\n",
       "      <td>Closed with explanation</td>\n",
       "      <td>No</td>\n",
       "      <td>2163100</td>\n",
       "      <td>22</td>\n",
       "      <td>424</td>\n",
       "      <td>0</td>\n",
       "      <td>['purchase', 'new', 'car', 'xxxx', 'xxxx', 'ca...</td>\n",
       "      <td>0.076033</td>\n",
       "    </tr>\n",
       "    <tr>\n",
       "      <th>2</th>\n",
       "      <td>Credit reporting</td>\n",
       "      <td>Credit reporting company's investigation</td>\n",
       "      <td>An account on my credit report has a mistaken ...</td>\n",
       "      <td>Experian Information Solutions Inc.</td>\n",
       "      <td>VA</td>\n",
       "      <td>Closed with explanation</td>\n",
       "      <td>No</td>\n",
       "      <td>1420702</td>\n",
       "      <td>11</td>\n",
       "      <td>232</td>\n",
       "      <td>0</td>\n",
       "      <td>['account', 'credit', 'report', 'mistake', 'da...</td>\n",
       "      <td>0.156250</td>\n",
       "    </tr>\n",
       "    <tr>\n",
       "      <th>3</th>\n",
       "      <td>Debt collection</td>\n",
       "      <td>Disclosure verification of debt</td>\n",
       "      <td>This company refuses to provide me verificatio...</td>\n",
       "      <td>The CBE Group, Inc.</td>\n",
       "      <td>TX</td>\n",
       "      <td>Closed with explanation</td>\n",
       "      <td>Yes</td>\n",
       "      <td>1772196</td>\n",
       "      <td>2</td>\n",
       "      <td>27</td>\n",
       "      <td>0</td>\n",
       "      <td>['company', 'refuse', 'provide', 'verification...</td>\n",
       "      <td>0.285714</td>\n",
       "    </tr>\n",
       "    <tr>\n",
       "      <th>4</th>\n",
       "      <td>Debt collection</td>\n",
       "      <td>Improper contact or sharing of info</td>\n",
       "      <td>This complaint is in regards to Square Two Fin...</td>\n",
       "      <td>SQUARETWO FINANCIAL CORPORATION</td>\n",
       "      <td>NE</td>\n",
       "      <td>Closed with explanation</td>\n",
       "      <td>Yes</td>\n",
       "      <td>1790634</td>\n",
       "      <td>17</td>\n",
       "      <td>337</td>\n",
       "      <td>0</td>\n",
       "      <td>['complaint', 'regard', 'square', 'two', 'fina...</td>\n",
       "      <td>-0.016548</td>\n",
       "    </tr>\n",
       "  </tbody>\n",
       "</table>\n",
       "</div>"
      ],
      "text/plain": [
       "            Product                                     Issue  \\\n",
       "0  Credit reporting    Incorrect information on credit report   \n",
       "1     Consumer Loan                Managing the loan or lease   \n",
       "2  Credit reporting  Credit reporting company's investigation   \n",
       "3   Debt collection           Disclosure verification of debt   \n",
       "4   Debt collection       Improper contact or sharing of info   \n",
       "\n",
       "                                      complaint_text  \\\n",
       "0  I have outdated information on my credit repor...   \n",
       "1  I purchased a new car on XXXX XXXX. The car de...   \n",
       "2  An account on my credit report has a mistaken ...   \n",
       "3  This company refuses to provide me verificatio...   \n",
       "4  This complaint is in regards to Square Two Fin...   \n",
       "\n",
       "                                  Company State         company_response  \\\n",
       "0  TRANSUNION INTERMEDIATE HOLDINGS, INC.    AL  Closed with explanation   \n",
       "1          CITIZENS FINANCIAL GROUP, INC.    PA  Closed with explanation   \n",
       "2     Experian Information Solutions Inc.    VA  Closed with explanation   \n",
       "3                     The CBE Group, Inc.    TX  Closed with explanation   \n",
       "4         SQUARETWO FINANCIAL CORPORATION    NE  Closed with explanation   \n",
       "\n",
       "  disputed  complaint_ID  sentences  words  special_chars  \\\n",
       "0       No       2141773          1     34              0   \n",
       "1       No       2163100         22    424              0   \n",
       "2       No       1420702         11    232              0   \n",
       "3      Yes       1772196          2     27              0   \n",
       "4      Yes       1790634         17    337              0   \n",
       "\n",
       "                              preprocessed_complaint  polarity  \n",
       "0  ['outdated', 'information', 'credit', 'report'... -0.155556  \n",
       "1  ['purchase', 'new', 'car', 'xxxx', 'xxxx', 'ca...  0.076033  \n",
       "2  ['account', 'credit', 'report', 'mistake', 'da...  0.156250  \n",
       "3  ['company', 'refuse', 'provide', 'verification...  0.285714  \n",
       "4  ['complaint', 'regard', 'square', 'two', 'fina... -0.016548  "
      ]
     },
     "execution_count": 3,
     "metadata": {},
     "output_type": "execute_result"
    }
   ],
   "source": [
    "df_dir = '/Users/joeboardman/Documents/Springboard/GitHub/CapstoneThree/data/processed'\n",
    "os.chdir(df_dir)\n",
    "df = pd.read_csv('DW_complaints', index_col=0)\n",
    "df.head()"
   ]
  },
  {
   "cell_type": "code",
   "execution_count": 7,
   "metadata": {},
   "outputs": [
    {
     "data": {
      "image/png": "[encoded data removed]",
      "text/plain": [
       "<Figure size 432x288 with 1 Axes>"
      ]
     },
     "metadata": {
      "needs_background": "light"
     },
     "output_type": "display_data"
    }
   ],
   "source": [
    "fig, ax = plt.subplots()\n",
    "fig.suptitle(\"Product\", fontsize=12)\n",
    "df[\"Product\"].reset_index().groupby(\"Product\").count().sort_values(by=\"index\").plot(kind=\"barh\", legend=False, ax=ax).grid(axis='x')\n",
    "plt.show()"
   ]
  },
  {
   "cell_type": "code",
   "execution_count": null,
   "metadata": {},
   "outputs": [],
   "source": []
  },
  {
   "cell_type": "code",
   "execution_count": null,
   "metadata": {},
   "outputs": [],
   "source": []
  },
  {
   "cell_type": "code",
   "execution_count": null,
   "metadata": {},
   "outputs": [],
   "source": []
  },
  {
   "cell_type": "code",
   "execution_count": null,
   "metadata": {},
   "outputs": [],
   "source": []
  },
  {
   "cell_type": "code",
   "execution_count": null,
   "metadata": {},
   "outputs": [],
   "source": []
  },
  {
   "cell_type": "code",
   "execution_count": null,
   "metadata": {},
   "outputs": [],
   "source": []
  },
  {
   "cell_type": "code",
   "execution_count": null,
   "metadata": {},
   "outputs": [],
   "source": []
  }
 ],
 "metadata": {
  "kernelspec": {
   "display_name": "Python 3",
   "language": "python",
   "name": "python3"
  },
  "language_info": {
   "codemirror_mode": {
    "name": "ipython",
    "version": 3
   },
   "file_extension": ".py",
   "mimetype": "text/x-python",
   "name": "python",
   "nbconvert_exporter": "python",
   "pygments_lexer": "ipython3",
   "version": "3.7.6"
  }
 },
 "nbformat": 4,
 "nbformat_minor": 4
}
