{
 "cells": [
  {
   "cell_type": "code",
   "execution_count": 3,
   "metadata": {},
   "outputs": [],
   "source": [
    "import pandas as pd\n",
    "import os"
   ]
  },
  {
   "cell_type": "code",
   "execution_count": 5,
   "metadata": {},
   "outputs": [
    {
     "name": "stdout",
     "output_type": "stream",
     "text": [
      "/Users/joeboardman/Documents/Springboard/GitHub/Capstone-Three\n",
      "/Users/joeboardman/Documents/Springboard/GitHub/Capstone-Three/data\n"
     ]
    }
   ],
   "source": [
    "print(os.getcwd())\n",
    "data_path = \"/Users/joeboardman/Documents/Springboard/GitHub/Capstone-Three/data/\"\n",
    "os.chdir(data_path)\n",
    "print(os.getcwd())"
   ]
  },
  {
   "cell_type": "code",
   "execution_count": 7,
   "metadata": {},
   "outputs": [
    {
     "name": "stdout",
     "output_type": "stream",
     "text": [
      "<class 'pandas.core.frame.DataFrame'>\n",
      "RangeIndex: 210043 entries, 0 to 210042\n",
      "Data columns (total 29 columns):\n",
      " #   Column                          Non-Null Count   Dtype  \n",
      "---  ------                          --------------   -----  \n",
      " 0   case_enquiry_id                 210043 non-null  int64  \n",
      " 1   open_dt                         210043 non-null  object \n",
      " 2   target_dt                       172797 non-null  object \n",
      " 3   closed_dt                       179508 non-null  object \n",
      " 4   ontime                          210043 non-null  object \n",
      " 5   case_status                     210043 non-null  object \n",
      " 6   closure_reason                  210043 non-null  object \n",
      " 7   case_title                      210042 non-null  object \n",
      " 8   subject                         210043 non-null  object \n",
      " 9   reason                          210043 non-null  object \n",
      " 10  type                            210043 non-null  object \n",
      " 11  queue                           210043 non-null  object \n",
      " 12  department                      210043 non-null  object \n",
      " 13  submittedphoto                  81797 non-null   object \n",
      " 14  closedphoto                     36202 non-null   object \n",
      " 15  location                        210043 non-null  object \n",
      " 16  fire_district                   209665 non-null  object \n",
      " 17  pwd_district                    209954 non-null  object \n",
      " 18  city_council_district           210026 non-null  object \n",
      " 19  police_district                 209971 non-null  object \n",
      " 20  neighborhood                    209868 non-null  object \n",
      " 21  neighborhood_services_district  210026 non-null  object \n",
      " 22  ward                            210043 non-null  object \n",
      " 23  precinct                        209924 non-null  object \n",
      " 24  location_street_name            207465 non-null  object \n",
      " 25  location_zipcode                164380 non-null  float64\n",
      " 26  latitude                        210043 non-null  float64\n",
      " 27  longitude                       210043 non-null  float64\n",
      " 28  source                          210043 non-null  object \n",
      "dtypes: float64(3), int64(1), object(25)\n",
      "memory usage: 46.5+ MB\n"
     ]
    }
   ],
   "source": [
    "df = pd.read_csv('boston_311.csv')\n",
    "df.info()"
   ]
  },
  {
   "cell_type": "code",
   "execution_count": null,
   "metadata": {},
   "outputs": [],
   "source": []
  },
  {
   "cell_type": "code",
   "execution_count": null,
   "metadata": {},
   "outputs": [],
   "source": []
  },
  {
   "cell_type": "code",
   "execution_count": null,
   "metadata": {},
   "outputs": [],
   "source": []
  },
  {
   "cell_type": "code",
   "execution_count": null,
   "metadata": {},
   "outputs": [],
   "source": []
  },
  {
   "cell_type": "code",
   "execution_count": null,
   "metadata": {},
   "outputs": [],
   "source": []
  },
  {
   "cell_type": "code",
   "execution_count": null,
   "metadata": {},
   "outputs": [],
   "source": []
  }
 ],
 "metadata": {
  "kernelspec": {
   "display_name": "Python 3",
   "language": "python",
   "name": "python3"
  },
  "language_info": {
   "codemirror_mode": {
    "name": "ipython",
    "version": 3
   },
   "file_extension": ".py",
   "mimetype": "text/x-python",
   "name": "python",
   "nbconvert_exporter": "python",
   "pygments_lexer": "ipython3",
   "version": "3.7.6"
  }
 },
 "nbformat": 4,
 "nbformat_minor": 4
}
