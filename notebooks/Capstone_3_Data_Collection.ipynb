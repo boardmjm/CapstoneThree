{
 "cells": [
  {
   "cell_type": "markdown",
   "metadata": {},
   "source": [
    "# Capstone 3 - Data Collection"
   ]
  },
  {
   "cell_type": "markdown",
   "metadata": {},
   "source": [
    "### Project Background\n",
    "    \n",
    "    Customer satisfaction at financial institutions is taken very seriously but data may not always be leveraged as well as it can be. I remember when I supported a call center function at a large bank, the leaders of the call center would personally read individual complaints to try and glean valuable information and take action accordingly. Using NLP to analyze the type and severity of complaints can uncover serious issues with certain business functions that are negatively impacting customer satisfaction.\n",
    "    \n",
    "### Data\n",
    "\n",
    "    The data I used in this project came from the Consumer Financial Protection Bureau complaints dataset consisting of 1.8 million complaints, of which about 600k had written complaints. \n",
    "    \n",
    "### Machine Learning Methods\n",
    "\n",
    "    I plan to use Natural Language Processing to classify the product alignment of each complaint as well as the severity. This will not only give me information on what business function is driving the highest number of complaints, but will also direct me to which ones are most serious and where I must first direct my attention."
   ]
  },
  {
   "cell_type": "code",
   "execution_count": 82,
   "metadata": {},
   "outputs": [],
   "source": [
    "import pandas as pd\n",
    "import numpy as np\n",
    "import matplotlib.pyplot as plt\n",
    "%matplotlib inline\n",
    "import os\n",
    "from time import time\n",
    "from nltk import sent_tokenize, word_tokenize\n",
    "from nltk.tokenize import RegexpTokenizer\n",
    "from nltk.stem import WordNetLemmatizer\n",
    "from nltk.corpus import stopwords\n",
    "from nltk.util import ngrams\n",
    "from textblob import TextBlob\n",
    "from gensim.corpora.dictionary import Dictionary\n",
    "from sklearn.feature_extraction.text import TfidfVectorizer, CountVectorizer\n",
    "from sklearn.model_selection import train_test_split\n",
    "import spacy\n",
    "# download spacy english word vectors\n",
    "nlp = spacy.load('en_core_web_lg')\n"
   ]
  },
  {
   "cell_type": "code",
   "execution_count": 40,
   "metadata": {},
   "outputs": [
    {
     "name": "stdout",
     "output_type": "stream",
     "text": [
      "IBM ORG\n"
     ]
    }
   ],
   "source": [
    "# exploratory\n",
    "doc = nlp(\"We saw how to use different pre-built libraries for sentiment analysis using an unsupervised approach. We tried describing all the three packages in discussion i.e. IBM Watson Sentiment Analyzer, TextBlob & NLTK VADER-based sentiment analyzer. Also, we tried to explain how to use these successfully in Python.\")\n",
    "print(doc.ents[1], doc.ents[1].label_)"
   ]
  },
  {
   "cell_type": "code",
   "execution_count": 86,
   "metadata": {},
   "outputs": [
    {
     "name": "stdout",
     "output_type": "stream",
     "text": [
      "/Users/joeboardman/Downloads\n"
     ]
    }
   ],
   "source": [
    "print(os.getcwd())\n",
    "data_path = \"/Users/joeboardman/Downloads/\"\n",
    "save_path = \"/Users/joeboardman/Documents/Springboard/GitHub/CapstoneThree/\"\n",
    "os.chdir(data_path)"
   ]
  },
  {
   "cell_type": "code",
   "execution_count": 42,
   "metadata": {},
   "outputs": [
    {
     "data": {
      "text/html": [
       "<div>\n",
       "<style scoped>\n",
       "    .dataframe tbody tr th:only-of-type {\n",
       "        vertical-align: middle;\n",
       "    }\n",
       "\n",
       "    .dataframe tbody tr th {\n",
       "        vertical-align: top;\n",
       "    }\n",
       "\n",
       "    .dataframe thead th {\n",
       "        text-align: right;\n",
       "    }\n",
       "</style>\n",
       "<table border=\"1\" class=\"dataframe\">\n",
       "  <thead>\n",
       "    <tr style=\"text-align: right;\">\n",
       "      <th></th>\n",
       "      <th>Date received</th>\n",
       "      <th>Product</th>\n",
       "      <th>Sub-product</th>\n",
       "      <th>Issue</th>\n",
       "      <th>Sub-issue</th>\n",
       "      <th>Consumer complaint narrative</th>\n",
       "      <th>Company public response</th>\n",
       "      <th>Company</th>\n",
       "      <th>State</th>\n",
       "      <th>ZIP code</th>\n",
       "      <th>Tags</th>\n",
       "      <th>Consumer consent provided?</th>\n",
       "      <th>Submitted via</th>\n",
       "      <th>Date sent to company</th>\n",
       "      <th>Company response to consumer</th>\n",
       "      <th>Timely response?</th>\n",
       "      <th>Consumer disputed?</th>\n",
       "      <th>Complaint ID</th>\n",
       "    </tr>\n",
       "  </thead>\n",
       "  <tbody>\n",
       "    <tr>\n",
       "      <th>0</th>\n",
       "      <td>3/12/2014</td>\n",
       "      <td>Mortgage</td>\n",
       "      <td>Other mortgage</td>\n",
       "      <td>Loan modification,collection,foreclosure</td>\n",
       "      <td>NaN</td>\n",
       "      <td>NaN</td>\n",
       "      <td>NaN</td>\n",
       "      <td>M&amp;T BANK CORPORATION</td>\n",
       "      <td>MI</td>\n",
       "      <td>48382</td>\n",
       "      <td>NaN</td>\n",
       "      <td>NaN</td>\n",
       "      <td>Referral</td>\n",
       "      <td>3/17/2014</td>\n",
       "      <td>Closed with explanation</td>\n",
       "      <td>Yes</td>\n",
       "      <td>No</td>\n",
       "      <td>759217</td>\n",
       "    </tr>\n",
       "    <tr>\n",
       "      <th>1</th>\n",
       "      <td>10/1/2016</td>\n",
       "      <td>Credit reporting</td>\n",
       "      <td>NaN</td>\n",
       "      <td>Incorrect information on credit report</td>\n",
       "      <td>Account status</td>\n",
       "      <td>I have outdated information on my credit repor...</td>\n",
       "      <td>Company has responded to the consumer and the ...</td>\n",
       "      <td>TRANSUNION INTERMEDIATE HOLDINGS, INC.</td>\n",
       "      <td>AL</td>\n",
       "      <td>352XX</td>\n",
       "      <td>NaN</td>\n",
       "      <td>Consent provided</td>\n",
       "      <td>Web</td>\n",
       "      <td>10/5/2016</td>\n",
       "      <td>Closed with explanation</td>\n",
       "      <td>Yes</td>\n",
       "      <td>No</td>\n",
       "      <td>2141773</td>\n",
       "    </tr>\n",
       "    <tr>\n",
       "      <th>2</th>\n",
       "      <td>10/17/2016</td>\n",
       "      <td>Consumer Loan</td>\n",
       "      <td>Vehicle loan</td>\n",
       "      <td>Managing the loan or lease</td>\n",
       "      <td>NaN</td>\n",
       "      <td>I purchased a new car on XXXX XXXX. The car de...</td>\n",
       "      <td>NaN</td>\n",
       "      <td>CITIZENS FINANCIAL GROUP, INC.</td>\n",
       "      <td>PA</td>\n",
       "      <td>177XX</td>\n",
       "      <td>Older American</td>\n",
       "      <td>Consent provided</td>\n",
       "      <td>Web</td>\n",
       "      <td>10/20/2016</td>\n",
       "      <td>Closed with explanation</td>\n",
       "      <td>Yes</td>\n",
       "      <td>No</td>\n",
       "      <td>2163100</td>\n",
       "    </tr>\n",
       "    <tr>\n",
       "      <th>3</th>\n",
       "      <td>6/8/2014</td>\n",
       "      <td>Credit card</td>\n",
       "      <td>NaN</td>\n",
       "      <td>Bankruptcy</td>\n",
       "      <td>NaN</td>\n",
       "      <td>NaN</td>\n",
       "      <td>NaN</td>\n",
       "      <td>AMERICAN EXPRESS COMPANY</td>\n",
       "      <td>ID</td>\n",
       "      <td>83854</td>\n",
       "      <td>Older American</td>\n",
       "      <td>NaN</td>\n",
       "      <td>Web</td>\n",
       "      <td>6/10/2014</td>\n",
       "      <td>Closed with explanation</td>\n",
       "      <td>Yes</td>\n",
       "      <td>Yes</td>\n",
       "      <td>885638</td>\n",
       "    </tr>\n",
       "    <tr>\n",
       "      <th>4</th>\n",
       "      <td>9/13/2014</td>\n",
       "      <td>Debt collection</td>\n",
       "      <td>Credit card</td>\n",
       "      <td>Communication tactics</td>\n",
       "      <td>Frequent or repeated calls</td>\n",
       "      <td>NaN</td>\n",
       "      <td>NaN</td>\n",
       "      <td>CITIBANK, N.A.</td>\n",
       "      <td>VA</td>\n",
       "      <td>23233</td>\n",
       "      <td>NaN</td>\n",
       "      <td>NaN</td>\n",
       "      <td>Web</td>\n",
       "      <td>9/13/2014</td>\n",
       "      <td>Closed with explanation</td>\n",
       "      <td>Yes</td>\n",
       "      <td>Yes</td>\n",
       "      <td>1027760</td>\n",
       "    </tr>\n",
       "  </tbody>\n",
       "</table>\n",
       "</div>"
      ],
      "text/plain": [
       "  Date received           Product     Sub-product  \\\n",
       "0     3/12/2014          Mortgage  Other mortgage   \n",
       "1     10/1/2016  Credit reporting             NaN   \n",
       "2    10/17/2016     Consumer Loan    Vehicle loan   \n",
       "3      6/8/2014       Credit card             NaN   \n",
       "4     9/13/2014   Debt collection     Credit card   \n",
       "\n",
       "                                      Issue                   Sub-issue  \\\n",
       "0  Loan modification,collection,foreclosure                         NaN   \n",
       "1    Incorrect information on credit report              Account status   \n",
       "2                Managing the loan or lease                         NaN   \n",
       "3                                Bankruptcy                         NaN   \n",
       "4                     Communication tactics  Frequent or repeated calls   \n",
       "\n",
       "                        Consumer complaint narrative  \\\n",
       "0                                                NaN   \n",
       "1  I have outdated information on my credit repor...   \n",
       "2  I purchased a new car on XXXX XXXX. The car de...   \n",
       "3                                                NaN   \n",
       "4                                                NaN   \n",
       "\n",
       "                             Company public response  \\\n",
       "0                                                NaN   \n",
       "1  Company has responded to the consumer and the ...   \n",
       "2                                                NaN   \n",
       "3                                                NaN   \n",
       "4                                                NaN   \n",
       "\n",
       "                                  Company State ZIP code            Tags  \\\n",
       "0                    M&T BANK CORPORATION    MI    48382             NaN   \n",
       "1  TRANSUNION INTERMEDIATE HOLDINGS, INC.    AL    352XX             NaN   \n",
       "2          CITIZENS FINANCIAL GROUP, INC.    PA    177XX  Older American   \n",
       "3                AMERICAN EXPRESS COMPANY    ID    83854  Older American   \n",
       "4                          CITIBANK, N.A.    VA    23233             NaN   \n",
       "\n",
       "  Consumer consent provided? Submitted via Date sent to company  \\\n",
       "0                        NaN      Referral            3/17/2014   \n",
       "1           Consent provided           Web            10/5/2016   \n",
       "2           Consent provided           Web           10/20/2016   \n",
       "3                        NaN           Web            6/10/2014   \n",
       "4                        NaN           Web            9/13/2014   \n",
       "\n",
       "  Company response to consumer Timely response? Consumer disputed?  \\\n",
       "0      Closed with explanation              Yes                 No   \n",
       "1      Closed with explanation              Yes                 No   \n",
       "2      Closed with explanation              Yes                 No   \n",
       "3      Closed with explanation              Yes                Yes   \n",
       "4      Closed with explanation              Yes                Yes   \n",
       "\n",
       "   Complaint ID  \n",
       "0        759217  \n",
       "1       2141773  \n",
       "2       2163100  \n",
       "3        885638  \n",
       "4       1027760  "
      ]
     },
     "execution_count": 42,
     "metadata": {},
     "output_type": "execute_result"
    }
   ],
   "source": [
    "df = pd.read_csv(data_path + 'Consumer_Complaints.csv', nrows=50000) # smaller dataset - ~900k rows - \n",
    "#df = pd.read_csv(data_path + 'complaints.csv') # larger dataset - ~ 1.8m rows\n",
    "df.head()"
   ]
  },
  {
   "cell_type": "code",
   "execution_count": 43,
   "metadata": {},
   "outputs": [
    {
     "data": {
      "text/plain": [
       "'9/9/2016'"
      ]
     },
     "execution_count": 43,
     "metadata": {},
     "output_type": "execute_result"
    }
   ],
   "source": [
    "df['Date received'].max()"
   ]
  },
  {
   "cell_type": "code",
   "execution_count": 44,
   "metadata": {},
   "outputs": [
    {
     "name": "stdout",
     "output_type": "stream",
     "text": [
      "<class 'pandas.core.frame.DataFrame'>\n",
      "RangeIndex: 50000 entries, 0 to 49999\n",
      "Data columns (total 18 columns):\n",
      " #   Column                        Non-Null Count  Dtype \n",
      "---  ------                        --------------  ----- \n",
      " 0   Date received                 50000 non-null  object\n",
      " 1   Product                       50000 non-null  object\n",
      " 2   Sub-product                   35062 non-null  object\n",
      " 3   Issue                         50000 non-null  object\n",
      " 4   Sub-issue                     20963 non-null  object\n",
      " 5   Consumer complaint narrative  10541 non-null  object\n",
      " 6   Company public response       13462 non-null  object\n",
      " 7   Company                       50000 non-null  object\n",
      " 8   State                         49588 non-null  object\n",
      " 9   ZIP code                      49586 non-null  object\n",
      " 10  Tags                          6858 non-null   object\n",
      " 11  Consumer consent provided?    20011 non-null  object\n",
      " 12  Submitted via                 50000 non-null  object\n",
      " 13  Date sent to company          50000 non-null  object\n",
      " 14  Company response to consumer  50000 non-null  object\n",
      " 15  Timely response?              50000 non-null  object\n",
      " 16  Consumer disputed?            48817 non-null  object\n",
      " 17  Complaint ID                  50000 non-null  int64 \n",
      "dtypes: int64(1), object(17)\n",
      "memory usage: 6.9+ MB\n"
     ]
    }
   ],
   "source": [
    "df.info()"
   ]
  },
  {
   "cell_type": "code",
   "execution_count": 45,
   "metadata": {},
   "outputs": [],
   "source": [
    "# drop needless columns\n",
    "df.drop(['Date received', 'Sub-product', 'Sub-issue', 'ZIP code', 'Tags', 'Consumer consent provided?',\n",
    "        'Submitted via', 'Date sent to company', 'Timely response?', \"Company public response\"], \n",
    "        axis=1, inplace=True)"
   ]
  },
  {
   "cell_type": "code",
   "execution_count": 46,
   "metadata": {},
   "outputs": [],
   "source": [
    "# rename columns to remove spaces\n",
    "df = df.rename(columns={\"Consumer complaint narrative\": \"complaint_text\", \n",
    "                        \"Company response to consumer\":\"company_response\",\n",
    "                        \"Consumer disputed?\":\"disputed\", \n",
    "                        \"Complaint ID\":\"complaint_ID\"})\n"
   ]
  },
  {
   "cell_type": "code",
   "execution_count": 47,
   "metadata": {},
   "outputs": [
    {
     "name": "stdout",
     "output_type": "stream",
     "text": [
      "<class 'pandas.core.frame.DataFrame'>\n",
      "RangeIndex: 10541 entries, 0 to 10540\n",
      "Data columns (total 8 columns):\n",
      " #   Column            Non-Null Count  Dtype \n",
      "---  ------            --------------  ----- \n",
      " 0   Product           10541 non-null  object\n",
      " 1   Issue             10541 non-null  object\n",
      " 2   complaint_text    10541 non-null  object\n",
      " 3   Company           10541 non-null  object\n",
      " 4   State             10516 non-null  object\n",
      " 5   company_response  10541 non-null  object\n",
      " 6   disputed          10537 non-null  object\n",
      " 7   complaint_ID      10541 non-null  int64 \n",
      "dtypes: int64(1), object(7)\n",
      "memory usage: 658.9+ KB\n"
     ]
    }
   ],
   "source": [
    "# drop rows without a written complaint\n",
    "df = df.dropna(subset=['complaint_text']).reset_index(drop=True)\n",
    "df.info()"
   ]
  },
  {
   "cell_type": "code",
   "execution_count": 48,
   "metadata": {},
   "outputs": [
    {
     "data": {
      "text/plain": [
       "'I have disputed several accounts on my credit report with Equifax several times. I first disputed with the original creditors, XXXX, XXXX XXXX, and XXXX XXXX Solutions and after 3 letters did not receive any correspondence with proof. I sent copies of the letters and certified mail receipts to the credit bureau but they continue to verify these debts without copies of any proof with my signature. A statement of dispute was also never put on my credit report. Equifax only continues to update the accounts associated with these creditors.'"
      ]
     },
     "execution_count": 48,
     "metadata": {},
     "output_type": "execute_result"
    }
   ],
   "source": [
    "df[df.disputed == 'Yes'].iloc[2,2]"
   ]
  },
  {
   "cell_type": "code",
   "execution_count": 49,
   "metadata": {},
   "outputs": [
    {
     "data": {
      "text/plain": [
       "Debt collection                                                                 2558\n",
       "Mortgage                                                                        2094\n",
       "Credit reporting                                                                2028\n",
       "Credit card                                                                     1231\n",
       "Bank account or service                                                          938\n",
       "Student loan                                                                     759\n",
       "Consumer Loan                                                                    602\n",
       "Payday loan                                                                      110\n",
       "Money transfers                                                                  103\n",
       "Prepaid card                                                                      90\n",
       "Other financial service                                                           25\n",
       "Virtual currency                                                                   2\n",
       "Credit reporting, credit repair services, or other personal consumer reports       1\n",
       "Name: Product, dtype: int64"
      ]
     },
     "execution_count": 49,
     "metadata": {},
     "output_type": "execute_result"
    }
   ],
   "source": [
    "# different products - notice duplication (i.e. 'payday loan' and 'payday loan, title loan, or personal loan')\n",
    "df['Product'].value_counts()"
   ]
  },
  {
   "cell_type": "code",
   "execution_count": 50,
   "metadata": {},
   "outputs": [
    {
     "data": {
      "text/plain": [
       "Consumer Loan                  3567\n",
       "Debt collection                2558\n",
       "Credit reporting               2029\n",
       "Credit card or prepaid card    1321\n",
       "Bank account or service         938\n",
       "Other financial service         128\n",
       "Name: Product, dtype: int64"
      ]
     },
     "execution_count": 50,
     "metadata": {},
     "output_type": "execute_result"
    }
   ],
   "source": [
    "# consolidate duplicative products\n",
    "df.loc[df.Product == 'Virtual currency', ['Product']] = 'Consumer Loan'\n",
    "df.loc[df.Product == 'Mortgage', ['Product']] = 'Consumer Loan'\n",
    "df.loc[df.Product == 'Student Loan', ['Product']] = 'Consumer Loan'\n",
    "df.loc[df.Product == 'Payday loan, title loan, or personal loan', ['Product']] = 'Consumer Loan'\n",
    "df.loc[df.Product == 'Payday loan', ['Product']] = 'Consumer Loan'\n",
    "df.loc[df.Product == 'Vehicle loan or lease', ['Product']] = 'Consumer Loan'\n",
    "df.loc[df.Product == 'Student loan', ['Product']] = 'Consumer Loan'\n",
    "df.loc[df.Product == 'Prepaid card', ['Product']] = 'Credit card or prepaid card'\n",
    "df.loc[df.Product == 'Money transfers', ['Product']] = 'Other financial service'\n",
    "df.loc[df.Product == 'Credit reporting, credit repair services, or other personal consumer reports', ['Product']] = 'Credit reporting'\n",
    "df.loc[df.Product == 'Credit card', ['Product']] = 'Credit card or prepaid card'\n",
    "df.loc[df.Product == 'Checking or savings account', ['Product']] = 'Bank account or service'\n",
    "df.loc[df.Product == 'Money transfer, virtual currency, or money service', ['Product']] = 'Other financial service'\n",
    "\n",
    "df.Product.value_counts()"
   ]
  },
  {
   "cell_type": "code",
   "execution_count": 51,
   "metadata": {},
   "outputs": [
    {
     "data": {
      "text/html": [
       "<div>\n",
       "<style scoped>\n",
       "    .dataframe tbody tr th:only-of-type {\n",
       "        vertical-align: middle;\n",
       "    }\n",
       "\n",
       "    .dataframe tbody tr th {\n",
       "        vertical-align: top;\n",
       "    }\n",
       "\n",
       "    .dataframe thead th {\n",
       "        text-align: right;\n",
       "    }\n",
       "</style>\n",
       "<table border=\"1\" class=\"dataframe\">\n",
       "  <thead>\n",
       "    <tr style=\"text-align: right;\">\n",
       "      <th></th>\n",
       "      <th>Product</th>\n",
       "      <th>Issue</th>\n",
       "      <th>complaint_text</th>\n",
       "      <th>Company</th>\n",
       "      <th>State</th>\n",
       "      <th>company_response</th>\n",
       "      <th>disputed</th>\n",
       "      <th>complaint_ID</th>\n",
       "    </tr>\n",
       "  </thead>\n",
       "  <tbody>\n",
       "  </tbody>\n",
       "</table>\n",
       "</div>"
      ],
      "text/plain": [
       "Empty DataFrame\n",
       "Columns: [Product, Issue, complaint_text, Company, State, company_response, disputed, complaint_ID]\n",
       "Index: []"
      ]
     },
     "execution_count": 51,
     "metadata": {},
     "output_type": "execute_result"
    }
   ],
   "source": [
    "# check for duplicates\n",
    "duplicateRowsDF = df[df.duplicated()]\n",
    "duplicateRowsDF\n",
    "# drop duplicates\n",
    "#df.drop_duplicates(keep='first', inplace=True)"
   ]
  },
  {
   "cell_type": "code",
   "execution_count": 81,
   "metadata": {},
   "outputs": [
    {
     "data": {
      "text/html": [
       "<div>\n",
       "<style scoped>\n",
       "    .dataframe tbody tr th:only-of-type {\n",
       "        vertical-align: middle;\n",
       "    }\n",
       "\n",
       "    .dataframe tbody tr th {\n",
       "        vertical-align: top;\n",
       "    }\n",
       "\n",
       "    .dataframe thead th {\n",
       "        text-align: right;\n",
       "    }\n",
       "</style>\n",
       "<table border=\"1\" class=\"dataframe\">\n",
       "  <thead>\n",
       "    <tr style=\"text-align: right;\">\n",
       "      <th></th>\n",
       "      <th>Product</th>\n",
       "      <th>Issue</th>\n",
       "      <th>complaint_text</th>\n",
       "      <th>Company</th>\n",
       "      <th>State</th>\n",
       "      <th>company_response</th>\n",
       "      <th>disputed</th>\n",
       "      <th>complaint_ID</th>\n",
       "      <th>sentences</th>\n",
       "      <th>words</th>\n",
       "      <th>special_chars</th>\n",
       "      <th>preprocessed_complaint</th>\n",
       "      <th>polarity</th>\n",
       "    </tr>\n",
       "  </thead>\n",
       "  <tbody>\n",
       "    <tr>\n",
       "      <th>0</th>\n",
       "      <td>Credit reporting</td>\n",
       "      <td>Incorrect information on credit report</td>\n",
       "      <td>I have outdated information on my credit repor...</td>\n",
       "      <td>TRANSUNION INTERMEDIATE HOLDINGS, INC.</td>\n",
       "      <td>AL</td>\n",
       "      <td>Closed with explanation</td>\n",
       "      <td>No</td>\n",
       "      <td>2141773</td>\n",
       "      <td>1</td>\n",
       "      <td>34</td>\n",
       "      <td>0</td>\n",
       "      <td>[outdated, information, credit, report, previo...</td>\n",
       "      <td>-0.155556</td>\n",
       "    </tr>\n",
       "    <tr>\n",
       "      <th>1</th>\n",
       "      <td>Consumer Loan</td>\n",
       "      <td>Managing the loan or lease</td>\n",
       "      <td>I purchased a new car on XXXX XXXX. The car de...</td>\n",
       "      <td>CITIZENS FINANCIAL GROUP, INC.</td>\n",
       "      <td>PA</td>\n",
       "      <td>Closed with explanation</td>\n",
       "      <td>No</td>\n",
       "      <td>2163100</td>\n",
       "      <td>22</td>\n",
       "      <td>424</td>\n",
       "      <td>0</td>\n",
       "      <td>[purchase, new, car, xxxx, xxxx, car, dealer, ...</td>\n",
       "      <td>0.076033</td>\n",
       "    </tr>\n",
       "    <tr>\n",
       "      <th>2</th>\n",
       "      <td>Credit reporting</td>\n",
       "      <td>Credit reporting company's investigation</td>\n",
       "      <td>An account on my credit report has a mistaken ...</td>\n",
       "      <td>Experian Information Solutions Inc.</td>\n",
       "      <td>VA</td>\n",
       "      <td>Closed with explanation</td>\n",
       "      <td>No</td>\n",
       "      <td>1420702</td>\n",
       "      <td>11</td>\n",
       "      <td>232</td>\n",
       "      <td>0</td>\n",
       "      <td>[account, credit, report, mistake, date, mail,...</td>\n",
       "      <td>0.156250</td>\n",
       "    </tr>\n",
       "    <tr>\n",
       "      <th>3</th>\n",
       "      <td>Debt collection</td>\n",
       "      <td>Disclosure verification of debt</td>\n",
       "      <td>This company refuses to provide me verificatio...</td>\n",
       "      <td>The CBE Group, Inc.</td>\n",
       "      <td>TX</td>\n",
       "      <td>Closed with explanation</td>\n",
       "      <td>Yes</td>\n",
       "      <td>1772196</td>\n",
       "      <td>2</td>\n",
       "      <td>27</td>\n",
       "      <td>0</td>\n",
       "      <td>[company, refuse, provide, verification, valid...</td>\n",
       "      <td>0.285714</td>\n",
       "    </tr>\n",
       "    <tr>\n",
       "      <th>4</th>\n",
       "      <td>Debt collection</td>\n",
       "      <td>Improper contact or sharing of info</td>\n",
       "      <td>This complaint is in regards to Square Two Fin...</td>\n",
       "      <td>SQUARETWO FINANCIAL CORPORATION</td>\n",
       "      <td>NE</td>\n",
       "      <td>Closed with explanation</td>\n",
       "      <td>Yes</td>\n",
       "      <td>1790634</td>\n",
       "      <td>17</td>\n",
       "      <td>337</td>\n",
       "      <td>0</td>\n",
       "      <td>[complaint, regard, square, two, financial, re...</td>\n",
       "      <td>-0.016548</td>\n",
       "    </tr>\n",
       "  </tbody>\n",
       "</table>\n",
       "</div>"
      ],
      "text/plain": [
       "            Product                                     Issue  \\\n",
       "0  Credit reporting    Incorrect information on credit report   \n",
       "1     Consumer Loan                Managing the loan or lease   \n",
       "2  Credit reporting  Credit reporting company's investigation   \n",
       "3   Debt collection           Disclosure verification of debt   \n",
       "4   Debt collection       Improper contact or sharing of info   \n",
       "\n",
       "                                      complaint_text  \\\n",
       "0  I have outdated information on my credit repor...   \n",
       "1  I purchased a new car on XXXX XXXX. The car de...   \n",
       "2  An account on my credit report has a mistaken ...   \n",
       "3  This company refuses to provide me verificatio...   \n",
       "4  This complaint is in regards to Square Two Fin...   \n",
       "\n",
       "                                  Company State         company_response  \\\n",
       "0  TRANSUNION INTERMEDIATE HOLDINGS, INC.    AL  Closed with explanation   \n",
       "1          CITIZENS FINANCIAL GROUP, INC.    PA  Closed with explanation   \n",
       "2     Experian Information Solutions Inc.    VA  Closed with explanation   \n",
       "3                     The CBE Group, Inc.    TX  Closed with explanation   \n",
       "4         SQUARETWO FINANCIAL CORPORATION    NE  Closed with explanation   \n",
       "\n",
       "  disputed  complaint_ID  sentences  words  special_chars  \\\n",
       "0       No       2141773          1     34              0   \n",
       "1       No       2163100         22    424              0   \n",
       "2       No       1420702         11    232              0   \n",
       "3      Yes       1772196          2     27              0   \n",
       "4      Yes       1790634         17    337              0   \n",
       "\n",
       "                              preprocessed_complaint  polarity  \n",
       "0  [outdated, information, credit, report, previo... -0.155556  \n",
       "1  [purchase, new, car, xxxx, xxxx, car, dealer, ...  0.076033  \n",
       "2  [account, credit, report, mistake, date, mail,...  0.156250  \n",
       "3  [company, refuse, provide, verification, valid...  0.285714  \n",
       "4  [complaint, regard, square, two, financial, re... -0.016548  "
      ]
     },
     "execution_count": 81,
     "metadata": {},
     "output_type": "execute_result"
    }
   ],
   "source": [
    "# change 'disputed' from yes/no to 1/0\n",
    "pd.Series(np.where(df.disputed.values == 'yes', 1, 0), df.index)\n",
    "df.head()"
   ]
  },
  {
   "cell_type": "code",
   "execution_count": 52,
   "metadata": {},
   "outputs": [],
   "source": [
    "# Feature Engineering - Create column for # of sentences in complaint\n",
    "\n",
    "sent_tokens = [sent_tokenize(item) for item in df.complaint_text]\n",
    "len_sent_tokens = []\n",
    "\n",
    "for i in range(len(sent_tokens)):\n",
    "    len_sent_tokens.append(len(sent_tokens[i]))\n",
    "\n",
    "df['sentences'] = len_sent_tokens\n"
   ]
  },
  {
   "cell_type": "code",
   "execution_count": 53,
   "metadata": {},
   "outputs": [],
   "source": [
    "# Feature Engineering - Create column for # of words in complaint\n",
    "\n",
    "word_tokens = [word_tokenize(item) for item in df.complaint_text]\n",
    "len_word_tokens = []\n",
    "\n",
    "for i in range(len(word_tokens)):\n",
    "    len_word_tokens.append(len(word_tokens[i]))\n",
    "\n",
    "df['words'] = len_word_tokens\n"
   ]
  },
  {
   "cell_type": "code",
   "execution_count": 54,
   "metadata": {},
   "outputs": [
    {
     "data": {
      "text/html": [
       "<div>\n",
       "<style scoped>\n",
       "    .dataframe tbody tr th:only-of-type {\n",
       "        vertical-align: middle;\n",
       "    }\n",
       "\n",
       "    .dataframe tbody tr th {\n",
       "        vertical-align: top;\n",
       "    }\n",
       "\n",
       "    .dataframe thead th {\n",
       "        text-align: right;\n",
       "    }\n",
       "</style>\n",
       "<table border=\"1\" class=\"dataframe\">\n",
       "  <thead>\n",
       "    <tr style=\"text-align: right;\">\n",
       "      <th></th>\n",
       "      <th>Product</th>\n",
       "      <th>Issue</th>\n",
       "      <th>complaint_text</th>\n",
       "      <th>Company</th>\n",
       "      <th>State</th>\n",
       "      <th>company_response</th>\n",
       "      <th>disputed</th>\n",
       "      <th>complaint_ID</th>\n",
       "      <th>sentences</th>\n",
       "      <th>words</th>\n",
       "      <th>special_chars</th>\n",
       "    </tr>\n",
       "  </thead>\n",
       "  <tbody>\n",
       "    <tr>\n",
       "      <th>0</th>\n",
       "      <td>Credit reporting</td>\n",
       "      <td>Incorrect information on credit report</td>\n",
       "      <td>I have outdated information on my credit repor...</td>\n",
       "      <td>TRANSUNION INTERMEDIATE HOLDINGS, INC.</td>\n",
       "      <td>AL</td>\n",
       "      <td>Closed with explanation</td>\n",
       "      <td>No</td>\n",
       "      <td>2141773</td>\n",
       "      <td>1</td>\n",
       "      <td>34</td>\n",
       "      <td>0</td>\n",
       "    </tr>\n",
       "    <tr>\n",
       "      <th>1</th>\n",
       "      <td>Consumer Loan</td>\n",
       "      <td>Managing the loan or lease</td>\n",
       "      <td>I purchased a new car on XXXX XXXX. The car de...</td>\n",
       "      <td>CITIZENS FINANCIAL GROUP, INC.</td>\n",
       "      <td>PA</td>\n",
       "      <td>Closed with explanation</td>\n",
       "      <td>No</td>\n",
       "      <td>2163100</td>\n",
       "      <td>22</td>\n",
       "      <td>424</td>\n",
       "      <td>0</td>\n",
       "    </tr>\n",
       "    <tr>\n",
       "      <th>2</th>\n",
       "      <td>Credit reporting</td>\n",
       "      <td>Credit reporting company's investigation</td>\n",
       "      <td>An account on my credit report has a mistaken ...</td>\n",
       "      <td>Experian Information Solutions Inc.</td>\n",
       "      <td>VA</td>\n",
       "      <td>Closed with explanation</td>\n",
       "      <td>No</td>\n",
       "      <td>1420702</td>\n",
       "      <td>11</td>\n",
       "      <td>232</td>\n",
       "      <td>0</td>\n",
       "    </tr>\n",
       "    <tr>\n",
       "      <th>3</th>\n",
       "      <td>Debt collection</td>\n",
       "      <td>Disclosure verification of debt</td>\n",
       "      <td>This company refuses to provide me verificatio...</td>\n",
       "      <td>The CBE Group, Inc.</td>\n",
       "      <td>TX</td>\n",
       "      <td>Closed with explanation</td>\n",
       "      <td>Yes</td>\n",
       "      <td>1772196</td>\n",
       "      <td>2</td>\n",
       "      <td>27</td>\n",
       "      <td>0</td>\n",
       "    </tr>\n",
       "    <tr>\n",
       "      <th>4</th>\n",
       "      <td>Debt collection</td>\n",
       "      <td>Improper contact or sharing of info</td>\n",
       "      <td>This complaint is in regards to Square Two Fin...</td>\n",
       "      <td>SQUARETWO FINANCIAL CORPORATION</td>\n",
       "      <td>NE</td>\n",
       "      <td>Closed with explanation</td>\n",
       "      <td>Yes</td>\n",
       "      <td>1790634</td>\n",
       "      <td>17</td>\n",
       "      <td>337</td>\n",
       "      <td>0</td>\n",
       "    </tr>\n",
       "  </tbody>\n",
       "</table>\n",
       "</div>"
      ],
      "text/plain": [
       "            Product                                     Issue  \\\n",
       "0  Credit reporting    Incorrect information on credit report   \n",
       "1     Consumer Loan                Managing the loan or lease   \n",
       "2  Credit reporting  Credit reporting company's investigation   \n",
       "3   Debt collection           Disclosure verification of debt   \n",
       "4   Debt collection       Improper contact or sharing of info   \n",
       "\n",
       "                                      complaint_text  \\\n",
       "0  I have outdated information on my credit repor...   \n",
       "1  I purchased a new car on XXXX XXXX. The car de...   \n",
       "2  An account on my credit report has a mistaken ...   \n",
       "3  This company refuses to provide me verificatio...   \n",
       "4  This complaint is in regards to Square Two Fin...   \n",
       "\n",
       "                                  Company State         company_response  \\\n",
       "0  TRANSUNION INTERMEDIATE HOLDINGS, INC.    AL  Closed with explanation   \n",
       "1          CITIZENS FINANCIAL GROUP, INC.    PA  Closed with explanation   \n",
       "2     Experian Information Solutions Inc.    VA  Closed with explanation   \n",
       "3                     The CBE Group, Inc.    TX  Closed with explanation   \n",
       "4         SQUARETWO FINANCIAL CORPORATION    NE  Closed with explanation   \n",
       "\n",
       "  disputed  complaint_ID  sentences  words  special_chars  \n",
       "0       No       2141773          1     34              0  \n",
       "1       No       2163100         22    424              0  \n",
       "2       No       1420702         11    232              0  \n",
       "3      Yes       1772196          2     27              0  \n",
       "4      Yes       1790634         17    337              0  "
      ]
     },
     "execution_count": 54,
     "metadata": {},
     "output_type": "execute_result"
    }
   ],
   "source": [
    "# Feature Engineering - Create column for # of ? and ! in complaint\n",
    "\n",
    "df['special_chars'] = df.complaint_text.str.count('\\!') + df.complaint_text.str.count('\\?')\n",
    "df.head()\n"
   ]
  },
  {
   "cell_type": "code",
   "execution_count": 55,
   "metadata": {},
   "outputs": [
    {
     "data": {
      "text/html": [
       "<div>\n",
       "<style scoped>\n",
       "    .dataframe tbody tr th:only-of-type {\n",
       "        vertical-align: middle;\n",
       "    }\n",
       "\n",
       "    .dataframe tbody tr th {\n",
       "        vertical-align: top;\n",
       "    }\n",
       "\n",
       "    .dataframe thead th {\n",
       "        text-align: right;\n",
       "    }\n",
       "</style>\n",
       "<table border=\"1\" class=\"dataframe\">\n",
       "  <thead>\n",
       "    <tr style=\"text-align: right;\">\n",
       "      <th></th>\n",
       "      <th>count</th>\n",
       "      <th>mean</th>\n",
       "      <th>std</th>\n",
       "      <th>min</th>\n",
       "      <th>25%</th>\n",
       "      <th>50%</th>\n",
       "      <th>75%</th>\n",
       "      <th>max</th>\n",
       "    </tr>\n",
       "  </thead>\n",
       "  <tbody>\n",
       "    <tr>\n",
       "      <th>complaint_ID</th>\n",
       "      <td>10541.0</td>\n",
       "      <td>1930459.302</td>\n",
       "      <td>344415.478</td>\n",
       "      <td>1290516.0</td>\n",
       "      <td>1629406.0</td>\n",
       "      <td>1959481.0</td>\n",
       "      <td>2242317.0</td>\n",
       "      <td>2472897.0</td>\n",
       "    </tr>\n",
       "    <tr>\n",
       "      <th>sentences</th>\n",
       "      <td>10541.0</td>\n",
       "      <td>9.360</td>\n",
       "      <td>8.241</td>\n",
       "      <td>1.0</td>\n",
       "      <td>4.0</td>\n",
       "      <td>7.0</td>\n",
       "      <td>12.0</td>\n",
       "      <td>72.0</td>\n",
       "    </tr>\n",
       "    <tr>\n",
       "      <th>words</th>\n",
       "      <td>10541.0</td>\n",
       "      <td>207.878</td>\n",
       "      <td>183.814</td>\n",
       "      <td>2.0</td>\n",
       "      <td>77.0</td>\n",
       "      <td>146.0</td>\n",
       "      <td>277.0</td>\n",
       "      <td>1010.0</td>\n",
       "    </tr>\n",
       "    <tr>\n",
       "      <th>special_chars</th>\n",
       "      <td>10541.0</td>\n",
       "      <td>0.520</td>\n",
       "      <td>2.029</td>\n",
       "      <td>0.0</td>\n",
       "      <td>0.0</td>\n",
       "      <td>0.0</td>\n",
       "      <td>0.0</td>\n",
       "      <td>75.0</td>\n",
       "    </tr>\n",
       "  </tbody>\n",
       "</table>\n",
       "</div>"
      ],
      "text/plain": [
       "                 count         mean         std        min        25%  \\\n",
       "complaint_ID   10541.0  1930459.302  344415.478  1290516.0  1629406.0   \n",
       "sentences      10541.0        9.360       8.241        1.0        4.0   \n",
       "words          10541.0      207.878     183.814        2.0       77.0   \n",
       "special_chars  10541.0        0.520       2.029        0.0        0.0   \n",
       "\n",
       "                     50%        75%        max  \n",
       "complaint_ID   1959481.0  2242317.0  2472897.0  \n",
       "sentences            7.0       12.0       72.0  \n",
       "words              146.0      277.0     1010.0  \n",
       "special_chars        0.0        0.0       75.0  "
      ]
     },
     "execution_count": 55,
     "metadata": {},
     "output_type": "execute_result"
    }
   ],
   "source": [
    "round(df.describe().T,3)"
   ]
  },
  {
   "cell_type": "code",
   "execution_count": 56,
   "metadata": {},
   "outputs": [],
   "source": [
    "# words to remove from stop words\n",
    "stop_remove = ['no', 'not', \"don't\"]\n",
    "\n",
    "def remove_stop_words(list):\n",
    "    '''removing multiple stop words instead of repetitive code'''\n",
    "    \n",
    "    global STOP_WORDS\n",
    "    STOP_WORDS = stopwords.words('english')\n",
    "    for i in range(len(list)):\n",
    "        STOP_WORDS.remove(list[i])\n",
    "    #return STOP_WORDS\n",
    "    \n",
    "# remove negation stop words\n",
    "remove_stop_words(stop_remove)\n"
   ]
  },
  {
   "cell_type": "code",
   "execution_count": 57,
   "metadata": {},
   "outputs": [],
   "source": [
    "# text preprocessing formulas\n",
    "def preprocess_text(text):\n",
    "    '''tokenize, lemmatize and remove stop words from text'''\n",
    "    \n",
    "    # Tokenise words while ignoring punctuation\n",
    "    tokeniser = RegexpTokenizer(r'\\w+')\n",
    "    tokens = tokeniser.tokenize(text)\n",
    "    bigram = list(ngrams(tokens, 2)) \n",
    "    \n",
    "    # Lowercase and lemmatise \n",
    "    lemmatiser = WordNetLemmatizer()\n",
    "    lemmas = [lemmatiser.lemmatize(token.lower(), pos='v') for token in tokens]\n",
    "    \n",
    "    # Remove stopwords\n",
    "    keywords= [lemma for lemma in lemmas if lemma not in STOP_WORDS]\n",
    "    return keywords"
   ]
  },
  {
   "cell_type": "code",
   "execution_count": 58,
   "metadata": {},
   "outputs": [],
   "source": [
    "# Get the polarity score of each complaint\n",
    "def get_TextBlob_score(text):\n",
    "    '''Assign polarity score between -1 to 1 for text'''\n",
    "    \n",
    "    polarity = TextBlob(text).sentiment.polarity\n",
    "    return polarity"
   ]
  },
  {
   "cell_type": "code",
   "execution_count": 64,
   "metadata": {},
   "outputs": [],
   "source": [
    "# Preprocess complaint_text column then run the textblob polarity \n",
    "df['preprocessed_complaint'] = df.complaint_text.apply(preprocess_text)\n",
    "\n",
    "pol = [get_TextBlob_score(str(complaint)) for complaint in df.preprocessed_complaint]\n",
    "    \n",
    "df['polarity'] = pol\n"
   ]
  },
  {
   "cell_type": "code",
   "execution_count": 66,
   "metadata": {},
   "outputs": [
    {
     "name": "stdout",
     "output_type": "stream",
     "text": [
      "1764    -1.0\n",
      "6014    -1.0\n",
      "10266   -1.0\n",
      "1123    -0.8\n",
      "2531    -0.8\n",
      "Name: polarity, dtype: float64\n",
      "3542    1.0\n",
      "8538    1.0\n",
      "5278    0.8\n",
      "8823    0.8\n",
      "9632    0.8\n",
      "Name: polarity, dtype: float64\n"
     ]
    }
   ],
   "source": [
    "print(df.polarity.nsmallest())\n",
    "print(df.polarity.nlargest())"
   ]
  },
  {
   "cell_type": "code",
   "execution_count": 73,
   "metadata": {},
   "outputs": [
    {
     "name": "stdout",
     "output_type": "stream",
     "text": [
      "Most positive review:  Hello, I am disputing the charge of {$1000.00} charged on XXXX XXXX, 2014 by merchant XXXX XXXX with my bank ( Bancorp South ). For detailed information please refer to the attached document. \n",
      "Best Regards, XXXX XXXX\n",
      "\n",
      "Most Negative Review:  XX/XX/2016 I received a call from Discover stating they were calling because someone was attempting to use card, I then informed them it was not us. I was under impression that they would not allow transactions to go through. Well XX/XX/XXXX I receive an outrageous bill, they allowed the transactions to go through. I filed dispute end result was that signatures match so they determined it was n't fraud. It is in fact fraud, I asked them to show me footage of security camera and that I had told them not to allow transactions because we were both at work, not out shopping.\n"
     ]
    }
   ],
   "source": [
    "print('Most positive review: ', df.iloc[3542,2])\n",
    "print()\n",
    "print('Most Negative Review: ', df.iloc[1764,2])"
   ]
  },
  {
   "cell_type": "code",
   "execution_count": 71,
   "metadata": {},
   "outputs": [
    {
     "data": {
      "text/html": [
       "<div>\n",
       "<style scoped>\n",
       "    .dataframe tbody tr th:only-of-type {\n",
       "        vertical-align: middle;\n",
       "    }\n",
       "\n",
       "    .dataframe tbody tr th {\n",
       "        vertical-align: top;\n",
       "    }\n",
       "\n",
       "    .dataframe thead th {\n",
       "        text-align: right;\n",
       "    }\n",
       "</style>\n",
       "<table border=\"1\" class=\"dataframe\">\n",
       "  <thead>\n",
       "    <tr style=\"text-align: right;\">\n",
       "      <th></th>\n",
       "      <th>Product</th>\n",
       "      <th>Issue</th>\n",
       "      <th>complaint_text</th>\n",
       "      <th>Company</th>\n",
       "      <th>State</th>\n",
       "      <th>company_response</th>\n",
       "      <th>disputed</th>\n",
       "      <th>complaint_ID</th>\n",
       "      <th>sentences</th>\n",
       "      <th>words</th>\n",
       "      <th>special_chars</th>\n",
       "      <th>preprocessed_complaint</th>\n",
       "      <th>polarity</th>\n",
       "    </tr>\n",
       "  </thead>\n",
       "  <tbody>\n",
       "    <tr>\n",
       "      <th>0</th>\n",
       "      <td>Credit reporting</td>\n",
       "      <td>Incorrect information on credit report</td>\n",
       "      <td>I have outdated information on my credit repor...</td>\n",
       "      <td>TRANSUNION INTERMEDIATE HOLDINGS, INC.</td>\n",
       "      <td>AL</td>\n",
       "      <td>Closed with explanation</td>\n",
       "      <td>No</td>\n",
       "      <td>2141773</td>\n",
       "      <td>1</td>\n",
       "      <td>34</td>\n",
       "      <td>0</td>\n",
       "      <td>[outdated, information, credit, report, previo...</td>\n",
       "      <td>-0.155556</td>\n",
       "    </tr>\n",
       "    <tr>\n",
       "      <th>1</th>\n",
       "      <td>Consumer Loan</td>\n",
       "      <td>Managing the loan or lease</td>\n",
       "      <td>I purchased a new car on XXXX XXXX. The car de...</td>\n",
       "      <td>CITIZENS FINANCIAL GROUP, INC.</td>\n",
       "      <td>PA</td>\n",
       "      <td>Closed with explanation</td>\n",
       "      <td>No</td>\n",
       "      <td>2163100</td>\n",
       "      <td>22</td>\n",
       "      <td>424</td>\n",
       "      <td>0</td>\n",
       "      <td>[purchase, new, car, xxxx, xxxx, car, dealer, ...</td>\n",
       "      <td>0.076033</td>\n",
       "    </tr>\n",
       "    <tr>\n",
       "      <th>2</th>\n",
       "      <td>Credit reporting</td>\n",
       "      <td>Credit reporting company's investigation</td>\n",
       "      <td>An account on my credit report has a mistaken ...</td>\n",
       "      <td>Experian Information Solutions Inc.</td>\n",
       "      <td>VA</td>\n",
       "      <td>Closed with explanation</td>\n",
       "      <td>No</td>\n",
       "      <td>1420702</td>\n",
       "      <td>11</td>\n",
       "      <td>232</td>\n",
       "      <td>0</td>\n",
       "      <td>[account, credit, report, mistake, date, mail,...</td>\n",
       "      <td>0.156250</td>\n",
       "    </tr>\n",
       "    <tr>\n",
       "      <th>3</th>\n",
       "      <td>Debt collection</td>\n",
       "      <td>Disclosure verification of debt</td>\n",
       "      <td>This company refuses to provide me verificatio...</td>\n",
       "      <td>The CBE Group, Inc.</td>\n",
       "      <td>TX</td>\n",
       "      <td>Closed with explanation</td>\n",
       "      <td>Yes</td>\n",
       "      <td>1772196</td>\n",
       "      <td>2</td>\n",
       "      <td>27</td>\n",
       "      <td>0</td>\n",
       "      <td>[company, refuse, provide, verification, valid...</td>\n",
       "      <td>0.285714</td>\n",
       "    </tr>\n",
       "    <tr>\n",
       "      <th>4</th>\n",
       "      <td>Debt collection</td>\n",
       "      <td>Improper contact or sharing of info</td>\n",
       "      <td>This complaint is in regards to Square Two Fin...</td>\n",
       "      <td>SQUARETWO FINANCIAL CORPORATION</td>\n",
       "      <td>NE</td>\n",
       "      <td>Closed with explanation</td>\n",
       "      <td>Yes</td>\n",
       "      <td>1790634</td>\n",
       "      <td>17</td>\n",
       "      <td>337</td>\n",
       "      <td>0</td>\n",
       "      <td>[complaint, regard, square, two, financial, re...</td>\n",
       "      <td>-0.016548</td>\n",
       "    </tr>\n",
       "  </tbody>\n",
       "</table>\n",
       "</div>"
      ],
      "text/plain": [
       "            Product                                     Issue  \\\n",
       "0  Credit reporting    Incorrect information on credit report   \n",
       "1     Consumer Loan                Managing the loan or lease   \n",
       "2  Credit reporting  Credit reporting company's investigation   \n",
       "3   Debt collection           Disclosure verification of debt   \n",
       "4   Debt collection       Improper contact or sharing of info   \n",
       "\n",
       "                                      complaint_text  \\\n",
       "0  I have outdated information on my credit repor...   \n",
       "1  I purchased a new car on XXXX XXXX. The car de...   \n",
       "2  An account on my credit report has a mistaken ...   \n",
       "3  This company refuses to provide me verificatio...   \n",
       "4  This complaint is in regards to Square Two Fin...   \n",
       "\n",
       "                                  Company State         company_response  \\\n",
       "0  TRANSUNION INTERMEDIATE HOLDINGS, INC.    AL  Closed with explanation   \n",
       "1          CITIZENS FINANCIAL GROUP, INC.    PA  Closed with explanation   \n",
       "2     Experian Information Solutions Inc.    VA  Closed with explanation   \n",
       "3                     The CBE Group, Inc.    TX  Closed with explanation   \n",
       "4         SQUARETWO FINANCIAL CORPORATION    NE  Closed with explanation   \n",
       "\n",
       "  disputed  complaint_ID  sentences  words  special_chars  \\\n",
       "0       No       2141773          1     34              0   \n",
       "1       No       2163100         22    424              0   \n",
       "2       No       1420702         11    232              0   \n",
       "3      Yes       1772196          2     27              0   \n",
       "4      Yes       1790634         17    337              0   \n",
       "\n",
       "                              preprocessed_complaint  polarity  \n",
       "0  [outdated, information, credit, report, previo... -0.155556  \n",
       "1  [purchase, new, car, xxxx, xxxx, car, dealer, ...  0.076033  \n",
       "2  [account, credit, report, mistake, date, mail,...  0.156250  \n",
       "3  [company, refuse, provide, verification, valid...  0.285714  \n",
       "4  [complaint, regard, square, two, financial, re... -0.016548  "
      ]
     },
     "execution_count": 71,
     "metadata": {},
     "output_type": "execute_result"
    }
   ],
   "source": [
    "df.head()"
   ]
  },
  {
   "cell_type": "code",
   "execution_count": 91,
   "metadata": {},
   "outputs": [
    {
     "data": {
      "text/plain": [
       "Incorrect information on credit report      1358\n",
       "Cont'd attempts collect debt not owed       1072\n",
       "Loan servicing, payments, escrow account     973\n",
       "Loan modification,collection,foreclosure     653\n",
       "Dealing with my lender or servicer           541\n",
       "                                            ... \n",
       "Attempts to collect debt not owed              1\n",
       "Overlimit fee                                  1\n",
       "Struggling to pay mortgage                     1\n",
       "Shopping for a line of credit                  1\n",
       "Lost or stolen money order                     1\n",
       "Name: Issue, Length: 86, dtype: int64"
      ]
     },
     "execution_count": 91,
     "metadata": {},
     "output_type": "execute_result"
    }
   ],
   "source": [
    "df.Issue.value_counts()"
   ]
  },
  {
   "cell_type": "code",
   "execution_count": 89,
   "metadata": {},
   "outputs": [],
   "source": [
    "# Save DataFrame as csv to be used for EDA and Modeling\n",
    "save = os.path.join(save_path, 'data/processed', 'DW_complaints')\n",
    "df.to_csv(save)\n"
   ]
  },
  {
   "cell_type": "code",
   "execution_count": 74,
   "metadata": {
    "scrolled": true
   },
   "outputs": [],
   "source": [
    "# Split data between train and test set\n",
    "\n",
    "X = df.drop('Product', axis=1)\n",
    "y = df.Product\n",
    "\n",
    "X_train, X_test, y_train, y_test = train_test_split(X, y, test_size=0.2, random_state=34)\n"
   ]
  },
  {
   "cell_type": "markdown",
   "metadata": {},
   "source": [
    "# Create Tf-Idf\n",
    "\n",
    "- Using the sklearn package, I have created a Tf-Idf of the top 1000 words, bi-grams and tri-grams in the dataset\n",
    "- I fit and transformed on the training set and transformed the test set using the same vectorizer to keep it consistent between the two\n",
    "- I converted the Tf-Idfs into dataframes to be used to create a classifier to predict the product alignment of each review"
   ]
  },
  {
   "cell_type": "code",
   "execution_count": 75,
   "metadata": {},
   "outputs": [
    {
     "name": "stdout",
     "output_type": "stream",
     "text": [
      "9.364492177963257\n"
     ]
    }
   ],
   "source": [
    "# Create tfidf matrix with the complaint text column using standard preprocessing and bi-grams\n",
    "start_time = time.time()\n",
    "\n",
    "tfidf_vectorizer = TfidfVectorizer(ngram_range=(1, 3), max_features=1000, stop_words=STOP_WORDS)\n",
    "tfidf_train = tfidf_vectorizer.fit_transform(X_train.complaint_text)\n",
    "tfidf_test = tfidf_vectorizer.transform(X_test.complaint_text)\n",
    "\n",
    "# convert tfidf to dataframe \n",
    "tfidf_train = pd.DataFrame(tfidf_train.A, columns=tfidf_vectorizer.get_feature_names())\n",
    "tfidf_test = pd.DataFrame(tfidf_test.A, columns=tfidf_vectorizer.get_feature_names())\n",
    "\n",
    "end_time = time.time()\n",
    "print(end_time - start_time)"
   ]
  },
  {
   "cell_type": "code",
   "execution_count": 76,
   "metadata": {},
   "outputs": [
    {
     "name": "stdout",
     "output_type": "stream",
     "text": [
      "    00  00 month  00 per  00 xxxx  00 xxxx xxxx   10  100  100 00  1000  \\\n",
      "0  0.0       0.0     0.0      0.0           0.0  0.0  0.0     0.0   0.0   \n",
      "1  0.0       0.0     0.0      0.0           0.0  0.0  0.0     0.0   0.0   \n",
      "2  0.0       0.0     0.0      0.0           0.0  0.0  0.0     0.0   0.0   \n",
      "3  0.0       0.0     0.0      0.0           0.0  0.0  0.0     0.0   0.0   \n",
      "4  0.0       0.0     0.0      0.0           0.0  0.0  0.0     0.0   0.0   \n",
      "\n",
      "   1000 00  ...  xxxx xxxx credit  xxxx xxxx not  xxxx xxxx received  \\\n",
      "0      0.0  ...               0.0            0.0                 0.0   \n",
      "1      0.0  ...               0.0            0.0                 0.0   \n",
      "2      0.0  ...               0.0            0.0                 0.0   \n",
      "3      0.0  ...               0.0            0.0                 0.0   \n",
      "4      0.0  ...               0.0            0.0                 0.0   \n",
      "\n",
      "   xxxx xxxx xx  xxxx xxxx xxxx  xxxx years  year  years  years ago  yet  \n",
      "0           0.0             0.0         0.0   0.0    0.0        0.0  0.0  \n",
      "1           0.0             0.0         0.0   0.0    0.0        0.0  0.0  \n",
      "2           0.0             0.0         0.0   0.0    0.0        0.0  0.0  \n",
      "3           0.0             0.0         0.0   0.0    0.0        0.0  0.0  \n",
      "4           0.0             0.0         0.0   0.0    0.0        0.0  0.0  \n",
      "\n",
      "[5 rows x 1000 columns]\n",
      "(8432, 1000)\n"
     ]
    }
   ],
   "source": [
    "print(tfidf_train.head())\n",
    "print(tfidf_train.shape)"
   ]
  },
  {
   "cell_type": "code",
   "execution_count": 90,
   "metadata": {},
   "outputs": [],
   "source": [
    "# save train set\n",
    "save = os.path.join(save_path, 'data/processed', 'tfidf_train')\n",
    "tfidf_train.to_csv(save)\n",
    "\n",
    "# save test set\n",
    "save = os.path.join(save_path, 'data/processed', 'tfidf_test')\n",
    "tfidf_test.to_csv(save)"
   ]
  },
  {
   "cell_type": "markdown",
   "metadata": {},
   "source": [
    "# Steps - 11/15/20:\n",
    "\n",
    "1. Create Tf-Idf vectorizer\n",
    "2. Create classifier for Product\n",
    "3. Feature Engineering prior to prediction of severity sentiment\n",
    "4. Sentiment analysis to preduct sentiment\n",
    "    1. TextBlob for polarity\n",
    "        1. Preprocess the complaint before TextBlob?\n",
    "    2. word2vec for word similarities\n",
    "    3. \n",
    "\n",
    "### Thoughts:\n",
    "- can use max_features argument of CountVectorizer and TfidfVectorizer to only include X amount of features\n",
    "- Bigrams/Trigrams (ngram_range parameter in TfidfVectorizer)\n",
    "    - can do a gridsearch to find whether bigrams or trigrams are better\n",
    "- dimensionality reduction\n",
    "    - find optimal number of features\n",
    "- train and run classifiers for product alignment of complaint - naive bayes? linear models?\n",
    "- figure out how to predict severity\n",
    "    - TextBlob or IBM Watson sentiment analysis to get polarity of complaint\n",
    "    - creating other features using text column\n",
    "        - number of punctuation marks (indicator of emotionally charged statement)\n",
    "        - number of words, sentences in each complaint\n",
    "    - consumer disputed column?\n",
    "        - discontinued 4/23/17 - latest date in data is 9/9/17\n",
    "        - could be indicator or the severity of complaint\n",
    "- recommend next action based on product alignment and severity\n",
    "\n",
    "### Ideas:\n",
    "- highly sensitive products?\n",
    "- pipeline\n",
    "    - gridsearch on pipeline?\n",
    "- spaCy\n",
    "    - word2vec NN\n",
    "\n"
   ]
  },
  {
   "cell_type": "code",
   "execution_count": null,
   "metadata": {},
   "outputs": [],
   "source": []
  },
  {
   "cell_type": "code",
   "execution_count": null,
   "metadata": {},
   "outputs": [],
   "source": []
  },
  {
   "cell_type": "code",
   "execution_count": null,
   "metadata": {},
   "outputs": [],
   "source": []
  },
  {
   "cell_type": "code",
   "execution_count": null,
   "metadata": {},
   "outputs": [],
   "source": []
  },
  {
   "cell_type": "code",
   "execution_count": null,
   "metadata": {},
   "outputs": [],
   "source": []
  },
  {
   "cell_type": "markdown",
   "metadata": {},
   "source": [
    "# Modeling - Predict Product Alignment\n",
    "\n",
    "### Create a classifier that will predict which product the complaint is aligned to \n",
    "- This will allow the end user of this model to be able to identify areas with a higher number of complaints with respect to others"
   ]
  },
  {
   "cell_type": "code",
   "execution_count": 77,
   "metadata": {},
   "outputs": [],
   "source": [
    "from sklearn.ensemble import RandomForestClassifier\n",
    "from sklearn.metrics import classification_report\n",
    "rf_classifier = RandomForestClassifier()\n",
    "rf_classifier.fit(tfidf_train, y_train)\n",
    "rf_predictions = rf_classifier.predict(tfidf_test)\n"
   ]
  },
  {
   "cell_type": "code",
   "execution_count": 78,
   "metadata": {},
   "outputs": [
    {
     "name": "stdout",
     "output_type": "stream",
     "text": [
      "                             precision    recall  f1-score   support\n",
      "\n",
      "    Bank account or service       0.79      0.74      0.77       184\n",
      "              Consumer Loan       0.83      0.93      0.87       707\n",
      "Credit card or prepaid card       0.81      0.72      0.76       279\n",
      "           Credit reporting       0.83      0.80      0.81       403\n",
      "            Debt collection       0.81      0.81      0.81       511\n",
      "    Other financial service       0.00      0.00      0.00        25\n",
      "\n",
      "                   accuracy                           0.82      2109\n",
      "                  macro avg       0.68      0.67      0.67      2109\n",
      "               weighted avg       0.81      0.82      0.81      2109\n",
      "\n"
     ]
    }
   ],
   "source": [
    "print(classification_report(y_test, rf_predictions, zero_division=0))"
   ]
  },
  {
   "cell_type": "code",
   "execution_count": null,
   "metadata": {},
   "outputs": [],
   "source": []
  },
  {
   "cell_type": "code",
   "execution_count": null,
   "metadata": {},
   "outputs": [],
   "source": []
  },
  {
   "cell_type": "code",
   "execution_count": null,
   "metadata": {},
   "outputs": [],
   "source": []
  },
  {
   "cell_type": "code",
   "execution_count": null,
   "metadata": {},
   "outputs": [],
   "source": []
  },
  {
   "cell_type": "code",
   "execution_count": null,
   "metadata": {},
   "outputs": [],
   "source": []
  },
  {
   "cell_type": "code",
   "execution_count": null,
   "metadata": {},
   "outputs": [],
   "source": []
  },
  {
   "cell_type": "code",
   "execution_count": null,
   "metadata": {},
   "outputs": [],
   "source": []
  },
  {
   "cell_type": "code",
   "execution_count": null,
   "metadata": {},
   "outputs": [],
   "source": []
  },
  {
   "cell_type": "code",
   "execution_count": null,
   "metadata": {},
   "outputs": [],
   "source": []
  },
  {
   "cell_type": "code",
   "execution_count": null,
   "metadata": {},
   "outputs": [],
   "source": []
  },
  {
   "cell_type": "code",
   "execution_count": 18,
   "metadata": {},
   "outputs": [
    {
     "data": {
      "text/plain": [
       "'# Create tfidf matrix with the complaint text column using preprocess_text formula as the analyzer parameter\\nstart_time = time.time()\\n\\ntfidf_vectorizer = TfidfVectorizer(analyzer=preprocess_text, lowercase=False)\\ntfidf_train = tfidf_vectorizer.fit_transform(X_train.complaint_text)\\ntfidf_test = tfidf_vectorizer.transform(X_test.complaint_text)\\n\\n# convert tfidf to dataframe \\ndf_tfidf = pd.DataFrame(tfidf_train.A, columns=tfidf_vectorizer.get_feature_names())\\n\\nend_time = time.time()\\nprint(end_time - start_time)\\n\\n# Create tfidf matrix with the complaint text column using preprocess_text formula as the analyzer parameter\\nstart_time = time.time()\\n\\ntfidf_vectorizer = TfidfVectorizer(analyzer=preprocess_text, lowercase=False, ngram_range=(1, 2), \\n                                   stop_words=STOP_WORDS)\\ntfidf_train = tfidf_vectorizer.fit_transform(X_train.complaint_text)\\ntfidf_test = tfidf_vectorizer.transform(X_test.complaint_text)\\n\\n# convert tfidf to dataframe \\ndf_tfidf = pd.DataFrame(tfidf_train.A, columns=tfidf_vectorizer.get_feature_names())\\n\\nend_time = time.time()\\nprint(end_time - start_time)'"
      ]
     },
     "execution_count": 18,
     "metadata": {},
     "output_type": "execute_result"
    }
   ],
   "source": [
    "# Other tfidf attempts using formulas for preprocessing\n",
    "\n",
    "'''# Create tfidf matrix with the complaint text column using preprocess_text formula as the analyzer parameter\n",
    "start_time = time.time()\n",
    "\n",
    "tfidf_vectorizer = TfidfVectorizer(analyzer=preprocess_text, lowercase=False)\n",
    "tfidf_train = tfidf_vectorizer.fit_transform(X_train.complaint_text)\n",
    "tfidf_test = tfidf_vectorizer.transform(X_test.complaint_text)\n",
    "\n",
    "# convert tfidf to dataframe \n",
    "df_tfidf = pd.DataFrame(tfidf_train.A, columns=tfidf_vectorizer.get_feature_names())\n",
    "\n",
    "end_time = time.time()\n",
    "print(end_time - start_time)\n",
    "\n",
    "# Create tfidf matrix with the complaint text column using preprocess_text formula as the analyzer parameter\n",
    "start_time = time.time()\n",
    "\n",
    "tfidf_vectorizer = TfidfVectorizer(analyzer=preprocess_text, lowercase=False, ngram_range=(1, 2), \n",
    "                                   stop_words=STOP_WORDS)\n",
    "tfidf_train = tfidf_vectorizer.fit_transform(X_train.complaint_text)\n",
    "tfidf_test = tfidf_vectorizer.transform(X_test.complaint_text)\n",
    "\n",
    "# convert tfidf to dataframe \n",
    "df_tfidf = pd.DataFrame(tfidf_train.A, columns=tfidf_vectorizer.get_feature_names())\n",
    "\n",
    "end_time = time.time()\n",
    "print(end_time - start_time)'''"
   ]
  },
  {
   "cell_type": "code",
   "execution_count": null,
   "metadata": {},
   "outputs": [],
   "source": [
    "'''# create count vectorizer matrix\n",
    "count_vectorizer = CountVectorizer(analyzer=preprocess_text, lowercase=False)\n",
    "count_vec = count_vectorizer.fit_transform(corpus)\n",
    "\n",
    "# convert tfidf to dataframe \n",
    "count_vec = tfidf.todense()\n",
    "count_vec = pd.DataFrame(count_vec, columns=count_vectorizer.get_feature_names())'''"
   ]
  },
  {
   "cell_type": "code",
   "execution_count": null,
   "metadata": {},
   "outputs": [],
   "source": [
    "# Attempts at concatenating tfidf DF with original data df\n",
    "'''\n",
    "Attempt 1:\n",
    "df_tfidf = pd.concat([df, tfidf], axis=1)\n",
    "print(df_tfidf.info())\n",
    "print(df_tfidf.head())\n",
    "\n",
    "Attempt 2:\n",
    "df_tfidf = df.merge(tfidf, left_index=True, right_index=True)\n",
    "df_tfidf\n",
    "\n",
    "Attempt 3:\n",
    "indexes = np.linspace(0, len(df), num=10, dtype=np.int32)\n",
    "\n",
    "df_tfidf = pd.DataFrame()\n",
    "for i in range(len(indexes) - 1):\n",
    "    df_tfidf = df_tfidf.append(pd.concat([df.loc[indexes[i]:indexes[i+1], :], \n",
    "                                        tfidf.loc[indexes[i]:indexes[i+1], :]],\n",
    "                                       axis=1))\n",
    "'''"
   ]
  },
  {
   "cell_type": "code",
   "execution_count": 16,
   "metadata": {},
   "outputs": [],
   "source": [
    "# preprocess complaint_text column - 4 min runtime with large dataset, 3 with small dataset\n",
    "#df.complaint_text = df.complaint_text.apply(preprocess_text)\n",
    "#df.complaint_text"
   ]
  },
  {
   "cell_type": "code",
   "execution_count": null,
   "metadata": {},
   "outputs": [],
   "source": []
  },
  {
   "cell_type": "code",
   "execution_count": null,
   "metadata": {},
   "outputs": [],
   "source": []
  },
  {
   "cell_type": "code",
   "execution_count": null,
   "metadata": {},
   "outputs": [],
   "source": []
  },
  {
   "cell_type": "code",
   "execution_count": null,
   "metadata": {},
   "outputs": [],
   "source": []
  },
  {
   "cell_type": "code",
   "execution_count": null,
   "metadata": {},
   "outputs": [],
   "source": []
  },
  {
   "cell_type": "code",
   "execution_count": null,
   "metadata": {},
   "outputs": [],
   "source": []
  }
 ],
 "metadata": {
  "kernelspec": {
   "display_name": "Python 3",
   "language": "python",
   "name": "python3"
  },
  "language_info": {
   "codemirror_mode": {
    "name": "ipython",
    "version": 3
   },
   "file_extension": ".py",
   "mimetype": "text/x-python",
   "name": "python",
   "nbconvert_exporter": "python",
   "pygments_lexer": "ipython3",
   "version": "3.7.6"
  }
 },
 "nbformat": 4,
 "nbformat_minor": 4
}
