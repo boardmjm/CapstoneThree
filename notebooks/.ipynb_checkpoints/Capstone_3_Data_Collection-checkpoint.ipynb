{
 "cells": [
  {
   "cell_type": "markdown",
   "metadata": {},
   "source": [
    "# Capstone 3 - Data Collection"
   ]
  },
  {
   "cell_type": "markdown",
   "metadata": {},
   "source": [
    "### Project Background\n",
    "    \n",
    "    Customer satisfaction at financial institutions is key to maintaining a good reputation but data may not always be leveraged as well as it can be. I remember when I supported a call center function at a large bank, the leaders of the call center would personally read individual complaints to try and glean valuable information and take action accordingly. Using NLP to analyze the type and severity of complaints can uncover serious issues with certain business functions that are negatively impacting customer satisfaction.\n",
    "    \n",
    "### Data\n",
    "\n",
    "    The data I used in this project came from the Consumer Financial Protection Bureau complaints dataset consisting of 1.8 million complaints, of which about 600k had written complaints. \n",
    "    \n",
    "### Machine Learning Methods\n",
    "\n",
    "    I plan to use Natural Language Processing to classify the product alignment of each complaint as well as the severity. This will not only give me information on what business function is driving the highest number of complaints, but will also direct me to which ones are most serious and where I must first direct my attention."
   ]
  },
  {
   "cell_type": "code",
   "execution_count": 114,
   "metadata": {},
   "outputs": [],
   "source": [
    "import pandas as pd\n",
    "import numpy as np\n",
    "import matplotlib.pyplot as plt\n",
    "import seaborn as sns\n",
    "import os\n",
    "import random\n",
    "from time import time\n",
    "from nltk import sent_tokenize, word_tokenize\n",
    "from nltk.tokenize import RegexpTokenizer\n",
    "from nltk.stem import WordNetLemmatizer\n",
    "from nltk.corpus import stopwords\n",
    "from nltk.util import ngrams\n",
    "from textblob import TextBlob\n",
    "from sklearn.feature_extraction.text import TfidfVectorizer, CountVectorizer\n",
    "from sklearn.feature_selection import chi2\n",
    "from sklearn.model_selection import train_test_split\n",
    "from sklearn.ensemble import RandomForestClassifier\n",
    "from sklearn.model_selection import GridSearchCV\n",
    "from sklearn import metrics\n",
    "from sklearn.utils import resample\n",
    "#from gensim.corpora.dictionary import Dictionary\n",
    "#import gensim\n",
    "#import gensim.downloader as gensim_api\n",
    "#from tensorflow.keras import models, layers, preprocessing as kprocessing\n",
    "#from tensorflow.keras import backend as K\n",
    "#import spacy\n",
    "# download spacy english word vectors\n",
    "#nlp = spacy.load('en_core_web_lg')\n",
    "%matplotlib inline"
   ]
  },
  {
   "cell_type": "code",
   "execution_count": 115,
   "metadata": {},
   "outputs": [],
   "source": [
    "# testing spacy\n",
    "#doc = nlp(\"We saw how to use different pre-built libraries for sentiment analysis using an unsupervised approach. We tried describing all the three packages in discussion i.e. IBM Watson Sentiment Analyzer, TextBlob & NLTK VADER-based sentiment analyzer. Also, we tried to explain how to use these successfully in Python.\")\n",
    "#print(doc.ents[1], doc.ents[1].label_)"
   ]
  },
  {
   "cell_type": "code",
   "execution_count": 116,
   "metadata": {},
   "outputs": [
    {
     "name": "stdout",
     "output_type": "stream",
     "text": [
      "/Users/joeboardman/Downloads\n"
     ]
    }
   ],
   "source": [
    "# folder directory to save file\n",
    "save_path = \"/Users/joeboardman/Documents/Springboard/GitHub/CapstoneThree/\"\n"
   ]
  },
  {
   "cell_type": "code",
   "execution_count": 152,
   "metadata": {},
   "outputs": [],
   "source": [
    "# Load dataset\n",
    "\n",
    "small = 'https://www.consumerfinance.gov/data-research/consumer-complaints/search/api/v1/?date_received_max=2020-11-23&date_received_min=2017-11-23&field=all&format=csv&no_aggs=true&size=934582&sort=created_date_desc' # 900k rows\n",
    "\n",
    "\n",
    "#read in smaller dataset - 900k rows\n",
    "#df = pd.read_csv(small) # smaller dataset - ~900k rows - \n",
    "#df = pd.read_csv(data_path + 'complaints.csv') # larger dataset - ~ 1.8m rows\n",
    "\n",
    "# create randomly sampled subset of dataset for faster execution\n",
    "#df = df.sample(n=50000, random_state=34)\n",
    "\n",
    "\n",
    "\n"
   ]
  },
  {
   "cell_type": "code",
   "execution_count": 187,
   "metadata": {},
   "outputs": [],
   "source": [
    "large = 'https://files.consumerfinance.gov/ccdb/complaints.csv.zip' # 1.8m rows\n",
    "banks = ['CITIBANK, N.A.', \n",
    "         'JPMORGAN CHASE & CO.', \n",
    "         'WELLS FARGO & COMPANY', \n",
    "         'BANK OF AMERICA, NATIONAL ASSOCIATION']\n",
    "\n",
    "#read in larget dataset - 1.8m rows - 19000 from chase\n",
    "df_banks = pd.read_csv(large)\n",
    "# only include values from top 4 banks in list banks (exclude credit bureaus and smaller institutions)\n",
    "df_banks = df_banks[df_banks.Company.isin(banks)]"
   ]
  },
  {
   "cell_type": "code",
   "execution_count": 196,
   "metadata": {},
   "outputs": [
    {
     "data": {
      "text/html": [
       "<div>\n",
       "<style scoped>\n",
       "    .dataframe tbody tr th:only-of-type {\n",
       "        vertical-align: middle;\n",
       "    }\n",
       "\n",
       "    .dataframe tbody tr th {\n",
       "        vertical-align: top;\n",
       "    }\n",
       "\n",
       "    .dataframe thead th {\n",
       "        text-align: right;\n",
       "    }\n",
       "</style>\n",
       "<table border=\"1\" class=\"dataframe\">\n",
       "  <thead>\n",
       "    <tr style=\"text-align: right;\">\n",
       "      <th></th>\n",
       "      <th>Product</th>\n",
       "      <th>Issue</th>\n",
       "      <th>complaint_text</th>\n",
       "      <th>Company</th>\n",
       "      <th>company_response</th>\n",
       "      <th>disputed</th>\n",
       "      <th>severe</th>\n",
       "    </tr>\n",
       "  </thead>\n",
       "  <tbody>\n",
       "    <tr>\n",
       "      <th>0</th>\n",
       "      <td>Credit reporting</td>\n",
       "      <td>Incorrect information on your report</td>\n",
       "      <td>On XX/XX/XXXX I received a letter from the IRS...</td>\n",
       "      <td>WELLS FARGO &amp; COMPANY</td>\n",
       "      <td>Closed with non-monetary relief</td>\n",
       "      <td>0</td>\n",
       "      <td>0</td>\n",
       "    </tr>\n",
       "    <tr>\n",
       "      <th>1</th>\n",
       "      <td>Consumer Loan</td>\n",
       "      <td>Struggling to pay mortgage</td>\n",
       "      <td>I am filing this complaint after receiving a l...</td>\n",
       "      <td>JPMORGAN CHASE &amp; CO.</td>\n",
       "      <td>Closed with explanation</td>\n",
       "      <td>0</td>\n",
       "      <td>0</td>\n",
       "    </tr>\n",
       "    <tr>\n",
       "      <th>2</th>\n",
       "      <td>Credit card or prepaid card</td>\n",
       "      <td>Problem with a purchase shown on your statement</td>\n",
       "      <td>On XX/XX/XXXX, Bank of America mailed out a ca...</td>\n",
       "      <td>BANK OF AMERICA, NATIONAL ASSOCIATION</td>\n",
       "      <td>Closed with monetary relief</td>\n",
       "      <td>0</td>\n",
       "      <td>0</td>\n",
       "    </tr>\n",
       "    <tr>\n",
       "      <th>3</th>\n",
       "      <td>Bank account or service</td>\n",
       "      <td>Problem with a lender or other company chargin...</td>\n",
       "      <td>I made an appointment at XXXX for myself and a...</td>\n",
       "      <td>BANK OF AMERICA, NATIONAL ASSOCIATION</td>\n",
       "      <td>Closed with explanation</td>\n",
       "      <td>0</td>\n",
       "      <td>0</td>\n",
       "    </tr>\n",
       "    <tr>\n",
       "      <th>4</th>\n",
       "      <td>Credit card or prepaid card</td>\n",
       "      <td>Closing your account</td>\n",
       "      <td>I was using my chase credit card like a regula...</td>\n",
       "      <td>JPMORGAN CHASE &amp; CO.</td>\n",
       "      <td>Closed with explanation</td>\n",
       "      <td>0</td>\n",
       "      <td>0</td>\n",
       "    </tr>\n",
       "  </tbody>\n",
       "</table>\n",
       "</div>"
      ],
      "text/plain": [
       "                       Product  \\\n",
       "0             Credit reporting   \n",
       "1                Consumer Loan   \n",
       "2  Credit card or prepaid card   \n",
       "3      Bank account or service   \n",
       "4  Credit card or prepaid card   \n",
       "\n",
       "                                               Issue  \\\n",
       "0               Incorrect information on your report   \n",
       "1                         Struggling to pay mortgage   \n",
       "2    Problem with a purchase shown on your statement   \n",
       "3  Problem with a lender or other company chargin...   \n",
       "4                               Closing your account   \n",
       "\n",
       "                                      complaint_text  \\\n",
       "0  On XX/XX/XXXX I received a letter from the IRS...   \n",
       "1  I am filing this complaint after receiving a l...   \n",
       "2  On XX/XX/XXXX, Bank of America mailed out a ca...   \n",
       "3  I made an appointment at XXXX for myself and a...   \n",
       "4  I was using my chase credit card like a regula...   \n",
       "\n",
       "                                 Company                 company_response  \\\n",
       "0                  WELLS FARGO & COMPANY  Closed with non-monetary relief   \n",
       "1                   JPMORGAN CHASE & CO.          Closed with explanation   \n",
       "2  BANK OF AMERICA, NATIONAL ASSOCIATION      Closed with monetary relief   \n",
       "3  BANK OF AMERICA, NATIONAL ASSOCIATION          Closed with explanation   \n",
       "4                   JPMORGAN CHASE & CO.          Closed with explanation   \n",
       "\n",
       "   disputed  severe  \n",
       "0         0       0  \n",
       "1         0       0  \n",
       "2         0       0  \n",
       "3         0       0  \n",
       "4         0       0  "
      ]
     },
     "execution_count": 196,
     "metadata": {},
     "output_type": "execute_result"
    }
   ],
   "source": [
    "df_banks.head()"
   ]
  },
  {
   "cell_type": "code",
   "execution_count": 188,
   "metadata": {},
   "outputs": [
    {
     "name": "stdout",
     "output_type": "stream",
     "text": [
      "<class 'pandas.core.frame.DataFrame'>\n",
      "RangeIndex: 76750 entries, 0 to 76749\n",
      "Data columns (total 18 columns):\n",
      " #   Column                        Non-Null Count  Dtype \n",
      "---  ------                        --------------  ----- \n",
      " 0   Date received                 76750 non-null  object\n",
      " 1   Product                       76750 non-null  object\n",
      " 2   Sub-product                   68466 non-null  object\n",
      " 3   Issue                         76750 non-null  object\n",
      " 4   Sub-issue                     41477 non-null  object\n",
      " 5   Consumer complaint narrative  76750 non-null  object\n",
      " 6   Company public response       56433 non-null  object\n",
      " 7   Company                       76750 non-null  object\n",
      " 8   State                         76182 non-null  object\n",
      " 9   ZIP code                      59611 non-null  object\n",
      " 10  Tags                          14397 non-null  object\n",
      " 11  Consumer consent provided?    76750 non-null  object\n",
      " 12  Submitted via                 76750 non-null  object\n",
      " 13  Date sent to company          76750 non-null  object\n",
      " 14  Company response to consumer  76750 non-null  object\n",
      " 15  Timely response?              76750 non-null  object\n",
      " 16  Consumer disputed?            28011 non-null  object\n",
      " 17  Complaint ID                  76750 non-null  int64 \n",
      "dtypes: int64(1), object(17)\n",
      "memory usage: 10.5+ MB\n"
     ]
    }
   ],
   "source": [
    "# drop rows without a written complaint\n",
    "df_banks = df_banks.dropna(subset=['Consumer complaint narrative']).reset_index(drop=True)\n",
    "df_banks.info()"
   ]
  },
  {
   "cell_type": "code",
   "execution_count": 189,
   "metadata": {},
   "outputs": [],
   "source": [
    "# drop needless columns\n",
    "df_banks.drop(['Date received', 'Sub-product', 'Sub-issue', 'ZIP code', 'Tags', 'Consumer consent provided?',\n",
    "        'Submitted via', 'Date sent to company', 'Timely response?', \"Company public response\", \n",
    "        'State', 'Complaint ID'], \n",
    "        axis=1, inplace=True)"
   ]
  },
  {
   "cell_type": "code",
   "execution_count": 190,
   "metadata": {},
   "outputs": [],
   "source": [
    "# rename columns to remove spaces\n",
    "df_banks = df_banks.rename(columns={\"Consumer complaint narrative\": \"complaint_text\", \n",
    "                        \"Company response to consumer\":\"company_response\",\n",
    "                        \"Consumer disputed?\":\"disputed\"})\n"
   ]
  },
  {
   "cell_type": "code",
   "execution_count": 191,
   "metadata": {},
   "outputs": [
    {
     "name": "stdout",
     "output_type": "stream",
     "text": [
      "<class 'pandas.core.frame.DataFrame'>\n",
      "RangeIndex: 76750 entries, 0 to 76749\n",
      "Data columns (total 6 columns):\n",
      " #   Column            Non-Null Count  Dtype \n",
      "---  ------            --------------  ----- \n",
      " 0   Product           76750 non-null  object\n",
      " 1   Issue             76750 non-null  object\n",
      " 2   complaint_text    76750 non-null  object\n",
      " 3   Company           76750 non-null  object\n",
      " 4   company_response  76750 non-null  object\n",
      " 5   disputed          76750 non-null  int64 \n",
      "dtypes: int64(1), object(5)\n",
      "memory usage: 3.5+ MB\n"
     ]
    }
   ],
   "source": [
    "\n",
    "\n",
    "# convert 'disputed' column to int instead of 'yes'/'no'\n",
    "df_banks['disputed'] = [1 if b=='Yes' else 0 for b in df_banks.disputed]\n",
    "\n",
    "df_banks.info()"
   ]
  },
  {
   "cell_type": "code",
   "execution_count": 192,
   "metadata": {},
   "outputs": [
    {
     "data": {
      "text/plain": [
       "Credit card or prepaid card                                                     16017\n",
       "Mortgage                                                                        15756\n",
       "Checking or savings account                                                     12450\n",
       "Credit card                                                                      8126\n",
       "Bank account or service                                                          7305\n",
       "Credit reporting, credit repair services, or other personal consumer reports     6728\n",
       "Debt collection                                                                  4525\n",
       "Money transfer, virtual currency, or money service                               2140\n",
       "Consumer Loan                                                                     982\n",
       "Vehicle loan or lease                                                             978\n",
       "Student loan                                                                      846\n",
       "Payday loan, title loan, or personal loan                                         367\n",
       "Money transfers                                                                   223\n",
       "Credit reporting                                                                  144\n",
       "Prepaid card                                                                      116\n",
       "Other financial service                                                            33\n",
       "Payday loan                                                                        14\n",
       "Name: Product, dtype: int64"
      ]
     },
     "execution_count": 192,
     "metadata": {},
     "output_type": "execute_result"
    }
   ],
   "source": [
    "# different products - notice duplication (i.e. 'payday loan' and 'payday loan, title loan, or personal loan')\n",
    "df_banks['Product'].value_counts()"
   ]
  },
  {
   "cell_type": "code",
   "execution_count": 193,
   "metadata": {},
   "outputs": [
    {
     "data": {
      "text/plain": [
       "Credit card or prepaid card    24259\n",
       "Bank account or service        19755\n",
       "Consumer Loan                  18943\n",
       "Credit reporting                6872\n",
       "Debt collection                 4525\n",
       "Other financial service         2396\n",
       "Name: Product, dtype: int64"
      ]
     },
     "execution_count": 193,
     "metadata": {},
     "output_type": "execute_result"
    }
   ],
   "source": [
    "# consolidate duplicative products\n",
    "df_banks.loc[df_banks.Product == 'Mortgage', ['Product']] = 'Consumer Loan'\n",
    "df_banks.loc[df_banks.Product == 'Student Loan', ['Product']] = 'Consumer Loan'\n",
    "df_banks.loc[df_banks.Product == 'Payday loan, title loan, or personal loan', ['Product']] = 'Consumer Loan'\n",
    "df_banks.loc[df_banks.Product == 'Payday loan', ['Product']] = 'Consumer Loan'\n",
    "df_banks.loc[df_banks.Product == 'Vehicle loan or lease', ['Product']] = 'Consumer Loan'\n",
    "df_banks.loc[df_banks.Product == 'Student loan', ['Product']] = 'Consumer Loan'\n",
    "df_banks.loc[df_banks.Product == 'Prepaid card', ['Product']] = 'Credit card or prepaid card'\n",
    "df_banks.loc[df_banks.Product == 'Money transfers', ['Product']] = 'Other financial service'\n",
    "df_banks.loc[df_banks.Product == 'Credit reporting, credit repair services, or other personal consumer reports', ['Product']] = 'Credit reporting'\n",
    "df_banks.loc[df_banks.Product == 'Credit card', ['Product']] = 'Credit card or prepaid card'\n",
    "df_banks.loc[df_banks.Product == 'Checking or savings account', ['Product']] = 'Bank account or service'\n",
    "df_banks.loc[df_banks.Product == 'Virtual currency', ['Product']] = 'Other financial service'\n",
    "df_banks.loc[df_banks.Product == 'Money transfer, virtual currency, or money service', ['Product']] = 'Other financial service'\n",
    "\n",
    "df_banks.Product.value_counts()"
   ]
  },
  {
   "cell_type": "code",
   "execution_count": 194,
   "metadata": {},
   "outputs": [
    {
     "data": {
      "text/html": [
       "<div>\n",
       "<style scoped>\n",
       "    .dataframe tbody tr th:only-of-type {\n",
       "        vertical-align: middle;\n",
       "    }\n",
       "\n",
       "    .dataframe tbody tr th {\n",
       "        vertical-align: top;\n",
       "    }\n",
       "\n",
       "    .dataframe thead th {\n",
       "        text-align: right;\n",
       "    }\n",
       "</style>\n",
       "<table border=\"1\" class=\"dataframe\">\n",
       "  <thead>\n",
       "    <tr style=\"text-align: right;\">\n",
       "      <th></th>\n",
       "      <th>Product</th>\n",
       "      <th>Issue</th>\n",
       "      <th>complaint_text</th>\n",
       "      <th>Company</th>\n",
       "      <th>company_response</th>\n",
       "      <th>disputed</th>\n",
       "      <th>severe</th>\n",
       "    </tr>\n",
       "  </thead>\n",
       "  <tbody>\n",
       "    <tr>\n",
       "      <th>0</th>\n",
       "      <td>Credit reporting</td>\n",
       "      <td>Incorrect information on your report</td>\n",
       "      <td>On XX/XX/XXXX I received a letter from the IRS...</td>\n",
       "      <td>WELLS FARGO &amp; COMPANY</td>\n",
       "      <td>Closed with non-monetary relief</td>\n",
       "      <td>0</td>\n",
       "      <td>0</td>\n",
       "    </tr>\n",
       "    <tr>\n",
       "      <th>1</th>\n",
       "      <td>Consumer Loan</td>\n",
       "      <td>Struggling to pay mortgage</td>\n",
       "      <td>I am filing this complaint after receiving a l...</td>\n",
       "      <td>JPMORGAN CHASE &amp; CO.</td>\n",
       "      <td>Closed with explanation</td>\n",
       "      <td>0</td>\n",
       "      <td>0</td>\n",
       "    </tr>\n",
       "    <tr>\n",
       "      <th>2</th>\n",
       "      <td>Credit card or prepaid card</td>\n",
       "      <td>Problem with a purchase shown on your statement</td>\n",
       "      <td>On XX/XX/XXXX, Bank of America mailed out a ca...</td>\n",
       "      <td>BANK OF AMERICA, NATIONAL ASSOCIATION</td>\n",
       "      <td>Closed with monetary relief</td>\n",
       "      <td>0</td>\n",
       "      <td>0</td>\n",
       "    </tr>\n",
       "    <tr>\n",
       "      <th>3</th>\n",
       "      <td>Bank account or service</td>\n",
       "      <td>Problem with a lender or other company chargin...</td>\n",
       "      <td>I made an appointment at XXXX for myself and a...</td>\n",
       "      <td>BANK OF AMERICA, NATIONAL ASSOCIATION</td>\n",
       "      <td>Closed with explanation</td>\n",
       "      <td>0</td>\n",
       "      <td>0</td>\n",
       "    </tr>\n",
       "    <tr>\n",
       "      <th>4</th>\n",
       "      <td>Credit card or prepaid card</td>\n",
       "      <td>Closing your account</td>\n",
       "      <td>I was using my chase credit card like a regula...</td>\n",
       "      <td>JPMORGAN CHASE &amp; CO.</td>\n",
       "      <td>Closed with explanation</td>\n",
       "      <td>0</td>\n",
       "      <td>0</td>\n",
       "    </tr>\n",
       "  </tbody>\n",
       "</table>\n",
       "</div>"
      ],
      "text/plain": [
       "                       Product  \\\n",
       "0             Credit reporting   \n",
       "1                Consumer Loan   \n",
       "2  Credit card or prepaid card   \n",
       "3      Bank account or service   \n",
       "4  Credit card or prepaid card   \n",
       "\n",
       "                                               Issue  \\\n",
       "0               Incorrect information on your report   \n",
       "1                         Struggling to pay mortgage   \n",
       "2    Problem with a purchase shown on your statement   \n",
       "3  Problem with a lender or other company chargin...   \n",
       "4                               Closing your account   \n",
       "\n",
       "                                      complaint_text  \\\n",
       "0  On XX/XX/XXXX I received a letter from the IRS...   \n",
       "1  I am filing this complaint after receiving a l...   \n",
       "2  On XX/XX/XXXX, Bank of America mailed out a ca...   \n",
       "3  I made an appointment at XXXX for myself and a...   \n",
       "4  I was using my chase credit card like a regula...   \n",
       "\n",
       "                                 Company                 company_response  \\\n",
       "0                  WELLS FARGO & COMPANY  Closed with non-monetary relief   \n",
       "1                   JPMORGAN CHASE & CO.          Closed with explanation   \n",
       "2  BANK OF AMERICA, NATIONAL ASSOCIATION      Closed with monetary relief   \n",
       "3  BANK OF AMERICA, NATIONAL ASSOCIATION          Closed with explanation   \n",
       "4                   JPMORGAN CHASE & CO.          Closed with explanation   \n",
       "\n",
       "   disputed  severe  \n",
       "0         0       0  \n",
       "1         0       0  \n",
       "2         0       0  \n",
       "3         0       0  \n",
       "4         0       0  "
      ]
     },
     "execution_count": 194,
     "metadata": {},
     "output_type": "execute_result"
    }
   ],
   "source": [
    "df_banks['severe'] = 0\n",
    "df_banks.head()"
   ]
  },
  {
   "cell_type": "code",
   "execution_count": 197,
   "metadata": {},
   "outputs": [
    {
     "data": {
      "text/html": [
       "<div>\n",
       "<style scoped>\n",
       "    .dataframe tbody tr th:only-of-type {\n",
       "        vertical-align: middle;\n",
       "    }\n",
       "\n",
       "    .dataframe tbody tr th {\n",
       "        vertical-align: top;\n",
       "    }\n",
       "\n",
       "    .dataframe thead th {\n",
       "        text-align: right;\n",
       "    }\n",
       "</style>\n",
       "<table border=\"1\" class=\"dataframe\">\n",
       "  <thead>\n",
       "    <tr style=\"text-align: right;\">\n",
       "      <th></th>\n",
       "      <th>Product</th>\n",
       "      <th>Issue</th>\n",
       "      <th>complaint_text</th>\n",
       "      <th>Company</th>\n",
       "      <th>company_response</th>\n",
       "      <th>disputed</th>\n",
       "      <th>severe</th>\n",
       "    </tr>\n",
       "  </thead>\n",
       "  <tbody>\n",
       "    <tr>\n",
       "      <th>14129</th>\n",
       "      <td>Credit card or prepaid card</td>\n",
       "      <td>Problem with a purchase shown on your statement</td>\n",
       "      <td>I bought some shoes from XXXX which turned out...</td>\n",
       "      <td>CITIBANK, N.A.</td>\n",
       "      <td>Closed with monetary relief</td>\n",
       "      <td>0</td>\n",
       "      <td>0</td>\n",
       "    </tr>\n",
       "    <tr>\n",
       "      <th>28949</th>\n",
       "      <td>Credit card or prepaid card</td>\n",
       "      <td>Problem with a purchase shown on your statement</td>\n",
       "      <td>Background information : I received an email o...</td>\n",
       "      <td>CITIBANK, N.A.</td>\n",
       "      <td>Closed with explanation</td>\n",
       "      <td>0</td>\n",
       "      <td>0</td>\n",
       "    </tr>\n",
       "    <tr>\n",
       "      <th>30909</th>\n",
       "      <td>Credit card or prepaid card</td>\n",
       "      <td>Advertising and marketing, including promotion...</td>\n",
       "      <td>XXXX : CITI PREMIER CARD ending in XXXX The be...</td>\n",
       "      <td>CITIBANK, N.A.</td>\n",
       "      <td>Closed with explanation</td>\n",
       "      <td>0</td>\n",
       "      <td>0</td>\n",
       "    </tr>\n",
       "    <tr>\n",
       "      <th>13756</th>\n",
       "      <td>Bank account or service</td>\n",
       "      <td>Managing an account</td>\n",
       "      <td>XXXX  charged me {$72.00} on XX/XX/2020 to ren...</td>\n",
       "      <td>JPMORGAN CHASE &amp; CO.</td>\n",
       "      <td>Closed with explanation</td>\n",
       "      <td>0</td>\n",
       "      <td>0</td>\n",
       "    </tr>\n",
       "    <tr>\n",
       "      <th>30995</th>\n",
       "      <td>Bank account or service</td>\n",
       "      <td>Problem caused by your funds being low</td>\n",
       "      <td>I received my bank of America monthly statemen...</td>\n",
       "      <td>BANK OF AMERICA, NATIONAL ASSOCIATION</td>\n",
       "      <td>Closed with monetary relief</td>\n",
       "      <td>0</td>\n",
       "      <td>0</td>\n",
       "    </tr>\n",
       "  </tbody>\n",
       "</table>\n",
       "</div>"
      ],
      "text/plain": [
       "                           Product  \\\n",
       "14129  Credit card or prepaid card   \n",
       "28949  Credit card or prepaid card   \n",
       "30909  Credit card or prepaid card   \n",
       "13756      Bank account or service   \n",
       "30995      Bank account or service   \n",
       "\n",
       "                                                   Issue  \\\n",
       "14129    Problem with a purchase shown on your statement   \n",
       "28949    Problem with a purchase shown on your statement   \n",
       "30909  Advertising and marketing, including promotion...   \n",
       "13756                                Managing an account   \n",
       "30995             Problem caused by your funds being low   \n",
       "\n",
       "                                          complaint_text  \\\n",
       "14129  I bought some shoes from XXXX which turned out...   \n",
       "28949  Background information : I received an email o...   \n",
       "30909  XXXX : CITI PREMIER CARD ending in XXXX The be...   \n",
       "13756  XXXX  charged me {$72.00} on XX/XX/2020 to ren...   \n",
       "30995  I received my bank of America monthly statemen...   \n",
       "\n",
       "                                     Company             company_response  \\\n",
       "14129                         CITIBANK, N.A.  Closed with monetary relief   \n",
       "28949                         CITIBANK, N.A.      Closed with explanation   \n",
       "30909                         CITIBANK, N.A.      Closed with explanation   \n",
       "13756                   JPMORGAN CHASE & CO.      Closed with explanation   \n",
       "30995  BANK OF AMERICA, NATIONAL ASSOCIATION  Closed with monetary relief   \n",
       "\n",
       "       disputed  severe  \n",
       "14129         0       0  \n",
       "28949         0       0  \n",
       "30909         0       0  \n",
       "13756         0       0  \n",
       "30995         0       0  "
      ]
     },
     "execution_count": 197,
     "metadata": {},
     "output_type": "execute_result"
    }
   ],
   "source": [
    "# create df where I will establish ground truth for severity of complaint\n",
    "df_gt = df_banks.sample(n=200, random_state=34)\n",
    "df_gt.head()"
   ]
  },
  {
   "cell_type": "code",
   "execution_count": 198,
   "metadata": {},
   "outputs": [
    {
     "data": {
      "text/plain": [
       "'I bought some shoes from XXXX which turned out to be defective. The zipper broke. I contacted XXXX and they sent me a replacement and I just had to send back original pair. \\nI decided to send back both pairs with the shipping label provided. \\nI received my bill and it still had the item on the bill. So I disputed the amount. A month later, XXXX sent me a letter that they needed further information to resolve the dispute and to call number on the letter. I called the number on the letter, XXXX, and it said they were closed due to Covid. Ive called once a week since the letter was mailed to me in XXXX. I received another letter today that since I did not call to furnish the information needed, the dispute was closed and not in my favor. I just tried calling the number they provided again. And it still says theyre closed due to Covid. \\nIf thats the case, why would XXXX close my case? Rather than extend the investigation period. Obviously someone is working, and taking adverse, unfair actions not to my benefit. \\nAs if today, I am yet to receive my refund for the purchase.'"
      ]
     },
     "execution_count": 198,
     "metadata": {},
     "output_type": "execute_result"
    }
   ],
   "source": [
    "df_gt.iloc[0,2]"
   ]
  },
  {
   "cell_type": "code",
   "execution_count": null,
   "metadata": {},
   "outputs": [],
   "source": [
    "# assign rating of severe or not for banks dataset\n",
    "\n",
    "df_gt.iloc[0,5] =  \n",
    "df_gt.iloc[1,5] =  \n",
    "df_gt.iloc[2,5] =  \n",
    "df_gt.iloc[3,5] = \n",
    "df_gt.iloc[4,5] = \n",
    "df_gt.iloc[,5] = \n",
    "df_gt.iloc[,5] = \n",
    "df_gt.iloc[,5] = \n",
    "df_gt.iloc[,5] = \n",
    "df_gt.iloc[,5] = \n",
    "df_gt.iloc[,5] = \n",
    "df_gt.iloc[,5] = \n",
    "df_gt.iloc[,5] = \n",
    "df_gt.iloc[,5] = \n",
    "df_gt.iloc[,5] = "
   ]
  },
  {
   "cell_type": "code",
   "execution_count": null,
   "metadata": {},
   "outputs": [],
   "source": [
    "'''# assign rating of severe or not\n",
    "df_gt.iloc[0,5] = 0 #collections keeps calling\n",
    "df_gt.iloc[1,5] = 1 #hard inquiries into credit report\n",
    "df_gt.iloc[2,5] = 0 #collecting debt, rude agent?\n",
    "df_gt.iloc[3,5] = 0 #double reporting on credit report\n",
    "df_gt.iloc[4,5] = 1 #late bills even though they pay and can't set up autopay\n",
    "df_gt.iloc[5,5] = 0 #changed loan balance\n",
    "df_gt.iloc[6,5] = 1 #credit inquiry challenging\n",
    "df_gt.iloc[7,5] = 1 #loan modification for home sale\n",
    "df_gt.iloc[8,5] = 0 #requested credit report online\n",
    "df_gt.iloc[9,5] = 1 #personal information shared with other institutions\n",
    "df_gt.iloc[10,5] = 0 #request credit report validation\n",
    "df_gt.iloc[11,5] = 0 #bonus hasn't hit account yet\n",
    "df_gt.iloc[12,5] = 0 #agreement with tax assessor office not valid with new servicer\n",
    "df_gt.iloc[13,5] = 0 #late payments still on credit report\n",
    "df_gt.iloc[14,5] = 0 #name on credit report\n",
    "df_gt.iloc[15,5] = 1 #loss of access to accounts resulting in losses for customer and fin institution\n",
    "df_gt.iloc[16,5] = 0 #deposit issue ultimately fixed\n",
    "df_gt.iloc[17,5] = 0 #overdraft fee issue - customer wanted to overdraft account \n",
    "df_gt.iloc[18,5] = \n",
    "df_gt.iloc[,5] = \n",
    "df_gt.iloc[,5] = \n",
    "df_gt.iloc[,5] = \n",
    "df_gt.iloc[,5] = \n",
    "df_gt.iloc[,5] = \n",
    "df_gt.iloc[,5] = \n",
    "df_gt.iloc[,5] = \n",
    "df_gt.iloc[,5] = \n",
    "df_gt.iloc[,5] = \n",
    "df_gt.iloc[,5] = '''"
   ]
  },
  {
   "cell_type": "code",
   "execution_count": 325,
   "metadata": {},
   "outputs": [],
   "source": [
    "# formula to upsample columns\n",
    "\n",
    "def upsample(df, labels, df_majority, minority_classes):\n",
    "    '''upsample minority classes to match majority class\n",
    "    df: data set (DataFrame)\n",
    "    labels: df column with our response variable (String)\n",
    "    df_majority: majority class in dataframe that we are upsampling to (Series)\n",
    "    minority_classes: minority classes in dataframe that we want to upsample (List)'''\n",
    "    \n",
    "    df_upsampled = df_majority\n",
    "    \n",
    "    for min_class in minority_classes:\n",
    "        df_min_class = resample(df[df[labels] == min_class], replace=True, n_samples=len(df_majority), \n",
    "                                random_state=42)\n",
    "        \n",
    "        df_upsampled = pd.concat([df_upsampled, df_min_class])\n",
    "        \n",
    "    return df_upsampled\n"
   ]
  },
  {
   "cell_type": "code",
   "execution_count": 326,
   "metadata": {},
   "outputs": [
    {
     "data": {
      "text/plain": [
       "Other financial service        2746\n",
       "Credit reporting               2746\n",
       "Credit card or prepaid card    2746\n",
       "Consumer Loan                  2746\n",
       "Debt collection                2746\n",
       "Bank account or service        2746\n",
       "Name: Product, dtype: int64"
      ]
     },
     "execution_count": 326,
     "metadata": {},
     "output_type": "execute_result"
    }
   ],
   "source": [
    "# upsample minority columns so that we have balanced classes\n",
    "minority_classes = ['Credit card or prepaid card', 'Bank account or service', 'Debt collection', 'Credit reporting',\n",
    "               'Other financial service']\n",
    "\n",
    "df = upsample(df, 'Product', df[df.Product=='Consumer Loan'], minority_classes)\n",
    "df.Product.value_counts()"
   ]
  },
  {
   "cell_type": "code",
   "execution_count": 327,
   "metadata": {},
   "outputs": [
    {
     "data": {
      "text/plain": [
       "9063"
      ]
     },
     "execution_count": 327,
     "metadata": {},
     "output_type": "execute_result"
    }
   ],
   "source": [
    "# check for duplicates\n",
    "duplicateRowsDF = df[df.duplicated()]\n",
    "len(duplicateRowsDF)\n",
    "# drop duplicates\n",
    "#df.drop_duplicates(keep='first', inplace=True)"
   ]
  },
  {
   "cell_type": "code",
   "execution_count": null,
   "metadata": {},
   "outputs": [],
   "source": []
  },
  {
   "cell_type": "code",
   "execution_count": 328,
   "metadata": {},
   "outputs": [],
   "source": [
    "# Feature Engineering - Create column for # of sentences in complaint\n",
    "\n",
    "sent_tokens = [sent_tokenize(item) for item in df.complaint_text]\n",
    "len_sent_tokens = []\n",
    "\n",
    "for i in range(len(sent_tokens)):\n",
    "    len_sent_tokens.append(len(sent_tokens[i]))\n",
    "\n",
    "df['sentences'] = len_sent_tokens\n"
   ]
  },
  {
   "cell_type": "code",
   "execution_count": 329,
   "metadata": {},
   "outputs": [],
   "source": [
    "# Feature Engineering - Create column for # of words in complaint\n",
    "\n",
    "word_tokens = [word_tokenize(item) for item in df.complaint_text]\n",
    "len_word_tokens = []\n",
    "\n",
    "for i in range(len(word_tokens)):\n",
    "    len_word_tokens.append(len(word_tokens[i]))\n",
    "\n",
    "df['words'] = len_word_tokens\n"
   ]
  },
  {
   "cell_type": "code",
   "execution_count": 330,
   "metadata": {},
   "outputs": [
    {
     "data": {
      "text/html": [
       "<div>\n",
       "<style scoped>\n",
       "    .dataframe tbody tr th:only-of-type {\n",
       "        vertical-align: middle;\n",
       "    }\n",
       "\n",
       "    .dataframe tbody tr th {\n",
       "        vertical-align: top;\n",
       "    }\n",
       "\n",
       "    .dataframe thead th {\n",
       "        text-align: right;\n",
       "    }\n",
       "</style>\n",
       "<table border=\"1\" class=\"dataframe\">\n",
       "  <thead>\n",
       "    <tr style=\"text-align: right;\">\n",
       "      <th></th>\n",
       "      <th>Product</th>\n",
       "      <th>Issue</th>\n",
       "      <th>complaint_text</th>\n",
       "      <th>company_response</th>\n",
       "      <th>disputed</th>\n",
       "      <th>sentences</th>\n",
       "      <th>words</th>\n",
       "      <th>special_chars</th>\n",
       "    </tr>\n",
       "  </thead>\n",
       "  <tbody>\n",
       "    <tr>\n",
       "      <th>0</th>\n",
       "      <td>Consumer Loan</td>\n",
       "      <td>Loan servicing, payments, escrow account</td>\n",
       "      <td>SENECA MORTGAGE SERVICING XXXX XXXX XXXX XXXX,...</td>\n",
       "      <td>Closed with explanation</td>\n",
       "      <td>1</td>\n",
       "      <td>22</td>\n",
       "      <td>480</td>\n",
       "      <td>5</td>\n",
       "    </tr>\n",
       "    <tr>\n",
       "      <th>1</th>\n",
       "      <td>Consumer Loan</td>\n",
       "      <td>Dealing with my lender or servicer</td>\n",
       "      <td>I had attended XXXX and was forced to take out...</td>\n",
       "      <td>Closed with explanation</td>\n",
       "      <td>0</td>\n",
       "      <td>5</td>\n",
       "      <td>88</td>\n",
       "      <td>1</td>\n",
       "    </tr>\n",
       "    <tr>\n",
       "      <th>3</th>\n",
       "      <td>Consumer Loan</td>\n",
       "      <td>Loan modification,collection,foreclosure</td>\n",
       "      <td>We were recently denied a settlement counter-o...</td>\n",
       "      <td>Closed with explanation</td>\n",
       "      <td>0</td>\n",
       "      <td>39</td>\n",
       "      <td>765</td>\n",
       "      <td>0</td>\n",
       "    </tr>\n",
       "    <tr>\n",
       "      <th>4</th>\n",
       "      <td>Consumer Loan</td>\n",
       "      <td>Managing the loan or lease</td>\n",
       "      <td>I had several XXXX XX/XX/XXXX,XX/XX/XXXX and X...</td>\n",
       "      <td>Closed with explanation</td>\n",
       "      <td>1</td>\n",
       "      <td>9</td>\n",
       "      <td>142</td>\n",
       "      <td>0</td>\n",
       "    </tr>\n",
       "    <tr>\n",
       "      <th>5</th>\n",
       "      <td>Consumer Loan</td>\n",
       "      <td>Loan servicing, payments, escrow account</td>\n",
       "      <td>( To preface this may be nothing but it is fro...</td>\n",
       "      <td>Closed with explanation</td>\n",
       "      <td>0</td>\n",
       "      <td>20</td>\n",
       "      <td>366</td>\n",
       "      <td>0</td>\n",
       "    </tr>\n",
       "  </tbody>\n",
       "</table>\n",
       "</div>"
      ],
      "text/plain": [
       "         Product                                     Issue  \\\n",
       "0  Consumer Loan  Loan servicing, payments, escrow account   \n",
       "1  Consumer Loan        Dealing with my lender or servicer   \n",
       "3  Consumer Loan  Loan modification,collection,foreclosure   \n",
       "4  Consumer Loan                Managing the loan or lease   \n",
       "5  Consumer Loan  Loan servicing, payments, escrow account   \n",
       "\n",
       "                                      complaint_text         company_response  \\\n",
       "0  SENECA MORTGAGE SERVICING XXXX XXXX XXXX XXXX,...  Closed with explanation   \n",
       "1  I had attended XXXX and was forced to take out...  Closed with explanation   \n",
       "3  We were recently denied a settlement counter-o...  Closed with explanation   \n",
       "4  I had several XXXX XX/XX/XXXX,XX/XX/XXXX and X...  Closed with explanation   \n",
       "5  ( To preface this may be nothing but it is fro...  Closed with explanation   \n",
       "\n",
       "   disputed  sentences  words  special_chars  \n",
       "0         1         22    480              5  \n",
       "1         0          5     88              1  \n",
       "3         0         39    765              0  \n",
       "4         1          9    142              0  \n",
       "5         0         20    366              0  "
      ]
     },
     "execution_count": 330,
     "metadata": {},
     "output_type": "execute_result"
    }
   ],
   "source": [
    "# Feature Engineering - Create column for # of ? and ! in complaint\n",
    "\n",
    "df['special_chars'] = df.complaint_text.str.count('\\!') + df.complaint_text.str.count('\\?')\n",
    "df.head()\n"
   ]
  },
  {
   "cell_type": "code",
   "execution_count": 331,
   "metadata": {},
   "outputs": [
    {
     "data": {
      "text/html": [
       "<div>\n",
       "<style scoped>\n",
       "    .dataframe tbody tr th:only-of-type {\n",
       "        vertical-align: middle;\n",
       "    }\n",
       "\n",
       "    .dataframe tbody tr th {\n",
       "        vertical-align: top;\n",
       "    }\n",
       "\n",
       "    .dataframe thead th {\n",
       "        text-align: right;\n",
       "    }\n",
       "</style>\n",
       "<table border=\"1\" class=\"dataframe\">\n",
       "  <thead>\n",
       "    <tr style=\"text-align: right;\">\n",
       "      <th></th>\n",
       "      <th>count</th>\n",
       "      <th>mean</th>\n",
       "      <th>std</th>\n",
       "      <th>min</th>\n",
       "      <th>25%</th>\n",
       "      <th>50%</th>\n",
       "      <th>75%</th>\n",
       "      <th>max</th>\n",
       "    </tr>\n",
       "  </thead>\n",
       "  <tbody>\n",
       "    <tr>\n",
       "      <th>disputed</th>\n",
       "      <td>16476.0</td>\n",
       "      <td>0.175</td>\n",
       "      <td>0.380</td>\n",
       "      <td>0.0</td>\n",
       "      <td>0.0</td>\n",
       "      <td>0.0</td>\n",
       "      <td>0.0</td>\n",
       "      <td>1.0</td>\n",
       "    </tr>\n",
       "    <tr>\n",
       "      <th>sentences</th>\n",
       "      <td>16476.0</td>\n",
       "      <td>9.626</td>\n",
       "      <td>8.684</td>\n",
       "      <td>1.0</td>\n",
       "      <td>4.0</td>\n",
       "      <td>7.0</td>\n",
       "      <td>12.0</td>\n",
       "      <td>156.0</td>\n",
       "    </tr>\n",
       "    <tr>\n",
       "      <th>words</th>\n",
       "      <td>16476.0</td>\n",
       "      <td>219.738</td>\n",
       "      <td>206.652</td>\n",
       "      <td>3.0</td>\n",
       "      <td>85.0</td>\n",
       "      <td>158.0</td>\n",
       "      <td>291.0</td>\n",
       "      <td>6715.0</td>\n",
       "    </tr>\n",
       "    <tr>\n",
       "      <th>special_chars</th>\n",
       "      <td>16476.0</td>\n",
       "      <td>0.533</td>\n",
       "      <td>2.279</td>\n",
       "      <td>0.0</td>\n",
       "      <td>0.0</td>\n",
       "      <td>0.0</td>\n",
       "      <td>0.0</td>\n",
       "      <td>88.0</td>\n",
       "    </tr>\n",
       "  </tbody>\n",
       "</table>\n",
       "</div>"
      ],
      "text/plain": [
       "                 count     mean      std  min   25%    50%    75%     max\n",
       "disputed       16476.0    0.175    0.380  0.0   0.0    0.0    0.0     1.0\n",
       "sentences      16476.0    9.626    8.684  1.0   4.0    7.0   12.0   156.0\n",
       "words          16476.0  219.738  206.652  3.0  85.0  158.0  291.0  6715.0\n",
       "special_chars  16476.0    0.533    2.279  0.0   0.0    0.0    0.0    88.0"
      ]
     },
     "execution_count": 331,
     "metadata": {},
     "output_type": "execute_result"
    }
   ],
   "source": [
    "round(df.describe().T,3)"
   ]
  },
  {
   "cell_type": "code",
   "execution_count": 332,
   "metadata": {},
   "outputs": [],
   "source": [
    "# words to remove from stop words\n",
    "stop_remove = ['no', 'not', \"don't\"]\n",
    "stop_add = ['xx', 'xxxx', '00']\n",
    "\n",
    "def add_or_remove_stop_words(remove_list, add_list):\n",
    "    '''adding or removing multiple stop words instead of repetitive code'''\n",
    "    \n",
    "    global STOP_WORDS\n",
    "    STOP_WORDS = stopwords.words('english')\n",
    "    for i in range(len(remove_list)):\n",
    "        STOP_WORDS.remove(remove_list[i])\n",
    "    \n",
    "    for i in range(len(add_list)):\n",
    "        STOP_WORDS.append(add_list[i])\n",
    "    \n",
    "# remove negation stop words\n",
    "add_or_remove_stop_words(stop_remove, stop_add)\n"
   ]
  },
  {
   "cell_type": "code",
   "execution_count": 333,
   "metadata": {},
   "outputs": [],
   "source": [
    "# text preprocessing formulas\n",
    "def preprocess_text(text):\n",
    "    '''tokenize, lemmatize and remove stop words from text'''\n",
    "    \n",
    "    # Tokenise words while ignoring punctuation\n",
    "    tokeniser = RegexpTokenizer(r'\\w+')\n",
    "    tokens = tokeniser.tokenize(text)\n",
    "    bigram = list(ngrams(tokens, 2)) \n",
    "    \n",
    "    # Lowercase and lemmatise \n",
    "    lemmatiser = WordNetLemmatizer()\n",
    "    lemmas = [lemmatiser.lemmatize(token.lower(), pos='v') for token in tokens]\n",
    "    \n",
    "    # Remove stopwords\n",
    "    keywords= [lemma for lemma in lemmas if lemma not in STOP_WORDS]\n",
    "    \n",
    "    #convert text back to string\n",
    "    text_str = \" \".join(keywords)\n",
    "    return text_str"
   ]
  },
  {
   "cell_type": "code",
   "execution_count": 334,
   "metadata": {},
   "outputs": [],
   "source": [
    "# Get the polarity score of each complaint\n",
    "def get_TextBlob_score(text):\n",
    "    '''Assign polarity score between -1 to 1 for text'''\n",
    "    \n",
    "    polarity = TextBlob(text).sentiment.polarity\n",
    "    return polarity"
   ]
  },
  {
   "cell_type": "code",
   "execution_count": 335,
   "metadata": {},
   "outputs": [],
   "source": [
    "# Preprocess complaint_text column then run the textblob polarity \n",
    "df['preprocessed_complaint'] = df.complaint_text.apply(preprocess_text)\n",
    "\n",
    "df['polarity'] = [get_TextBlob_score(str(complaint)) for complaint in df.preprocessed_complaint]\n"
   ]
  },
  {
   "cell_type": "code",
   "execution_count": 375,
   "metadata": {},
   "outputs": [
    {
     "name": "stdout",
     "output_type": "stream",
     "text": [
      "5626   -1.0\n",
      "5299   -1.0\n",
      "5299   -1.0\n",
      "5299   -1.0\n",
      "8301   -1.0\n",
      "Name: polarity, dtype: float64\n",
      "1968    1.0\n",
      "7103    1.0\n",
      "1792    1.0\n",
      "1968    1.0\n",
      "1792    1.0\n",
      "Name: polarity, dtype: float64\n"
     ]
    }
   ],
   "source": [
    "print(df.polarity.nsmallest())\n",
    "print(df.polarity.nlargest())"
   ]
  },
  {
   "cell_type": "code",
   "execution_count": 377,
   "metadata": {},
   "outputs": [
    {
     "name": "stdout",
     "output_type": "stream",
     "text": [
      "Most positive review:  fill overcharge fee expense charge loan modification agreement mortgage company american service company mortgage balloon dollars house market crash bankruptcy situation house tell stop payments mortgage bankruptcy well almost 3 years go without payments contact mortgage company tell amount bankruptcies overwhelm would get back mine desperate save house wait almost 3 years no payments finally agree loan modification home wife life problem fill amount late fee expense almost 3 years mortgage payments sudden add mortgage mortgage go 250000 330000 72000 add mortgage principle 250000 interest 56000 escrow 13000 late fee nsf fee 2600 recoverable expense 4300 72000 add mortgage someone bankruptcy already trouble pay mortgage begin tell not pay anything almost 3 years add interest late fee recovery expense escrow money seem like illegal think 3 months amount time bankruptcy not 3 years loan modification deny sign time desperate save house mortgage get much question anyway could find relief charge fee charge reduce lessen mortgage total amount money borrow begin 170000 purchase house 13 years ago owe almost 330000 way underwater mortgage american service company owe well fargo mortgage company time know well fargo criminal activity want see something illegal something wrong situation add many expense morgage complaint american service company loan modification agreement american service company since move mortgage know handle morgage\n",
      "\n",
      "Most Negative Review:  file claim unauthorized transactions save account wellsfargo not refund full amount money despite loyal customer since 2002 originally tell would receive money back tell not case many suspicious withdrawals n wellsfargo notify also file police report regard cyber theft\n"
     ]
    }
   ],
   "source": [
    "print('Most positive review: ', df.iloc[df.polarity.idxmax(),8])\n",
    "print()\n",
    "print('Most Negative Review: ', df.iloc[df.polarity.idxmin(),8])"
   ]
  },
  {
   "cell_type": "code",
   "execution_count": 361,
   "metadata": {},
   "outputs": [],
   "source": [
    "# Save DataFrame as csv to be used for EDA and Modeling\n",
    "save = os.path.join(save_path, 'data/processed', 'DW_complaints.csv')\n",
    "df.to_csv(save)\n"
   ]
  },
  {
   "cell_type": "code",
   "execution_count": 348,
   "metadata": {
    "scrolled": true
   },
   "outputs": [],
   "source": [
    "# Split data between train and test set\n",
    "\n",
    "X = df.drop('Product', axis=1)\n",
    "y = df['Product']\n",
    "#y = pd.Series(y)\n",
    "\n",
    "X_train, X_test, y_train, y_test = train_test_split(X, y, test_size=0.2, random_state=34)\n"
   ]
  },
  {
   "cell_type": "markdown",
   "metadata": {},
   "source": [
    "# Create Tf-Idf\n",
    "\n",
    "- Using the sklearn package, I have created a Tf-Idf of the top 1000 words, bi-grams and tri-grams in the dataset\n",
    "- I fit and transformed on the training set and transformed the test set using the same vectorizer to keep it consistent between the two\n",
    "- I converted the Tf-Idfs into dataframes to be used to create a classifier to predict the product alignment of each review"
   ]
  },
  {
   "cell_type": "code",
   "execution_count": 296,
   "metadata": {},
   "outputs": [
    {
     "data": {
      "text/plain": [
       "1       drop income base repayment plan fedloan servic...\n",
       "2       get recent modification 2015 mortgage ocwen se...\n",
       "7       not see correct category choose one apply loan...\n",
       "8       quote first loan application data entry person...\n",
       "10      carrington mortgage service research dpt ca na...\n",
       "                              ...                        \n",
       "244     2016 send moneygram someone florida 1300 contr...\n",
       "1960    accidentally paypal draw fund wrong source pay...\n",
       "3349    western union scam 2017 send three transaction...\n",
       "643     receive refund refund deposit show nothing bal...\n",
       "1634    previous case number lie say wrong company get...\n",
       "Name: preprocessed_complaint, Length: 6942, dtype: object"
      ]
     },
     "execution_count": 296,
     "metadata": {},
     "output_type": "execute_result"
    }
   ],
   "source": [
    "df.preprocessed_complaint"
   ]
  },
  {
   "cell_type": "code",
   "execution_count": 342,
   "metadata": {},
   "outputs": [
    {
     "name": "stdout",
     "output_type": "stream",
     "text": [
      "Runtime: 0.2 minutes\n"
     ]
    }
   ],
   "source": [
    "# Create tfidf matrix with the complaint text column using standard preprocessing and bi-grams\n",
    "t0 = time()\n",
    "\n",
    "tfidf_vectorizer = TfidfVectorizer(ngram_range=(1, 3), max_features=10000, stop_words=STOP_WORDS)\n",
    "tfidf_train = tfidf_vectorizer.fit_transform(X_train.preprocessed_complaint)\n",
    "tfidf_test = tfidf_vectorizer.transform(X_test.preprocessed_complaint)\n",
    "\n",
    "# convert tfidf to dataframe \n",
    "tfidf_train = pd.DataFrame(tfidf_train.A, columns=tfidf_vectorizer.get_feature_names())\n",
    "tfidf_test = pd.DataFrame(tfidf_test.A, columns=tfidf_vectorizer.get_feature_names())\n",
    "\n",
    "print('Runtime:', round((time() - t0) / 60,1), 'minutes')"
   ]
  },
  {
   "cell_type": "code",
   "execution_count": 364,
   "metadata": {},
   "outputs": [
    {
     "name": "stdout",
     "output_type": "stream",
     "text": [
      "<class 'numpy.ndarray'>\n",
      "<class 'pandas.core.frame.DataFrame'>\n",
      "         10  10 business  10 business days  10 day  10 days  10 years  100  \\\n",
      "0  0.000000          0.0               0.0     0.0      0.0       0.0  0.0   \n",
      "1  0.000000          0.0               0.0     0.0      0.0       0.0  0.0   \n",
      "2  0.047248          0.0               0.0     0.0      0.0       0.0  0.0   \n",
      "3  0.000000          0.0               0.0     0.0      0.0       0.0  0.0   \n",
      "4  0.000000          0.0               0.0     0.0      0.0       0.0  0.0   \n",
      "\n",
      "       1000  1000 almost  1000 almost months  ...       yet  yet receive  \\\n",
      "0  0.000000          0.0                 0.0  ...  0.000000          0.0   \n",
      "1  0.000000          0.0                 0.0  ...  0.000000          0.0   \n",
      "2  0.157611          0.0                 0.0  ...  0.000000          0.0   \n",
      "3  0.000000          0.0                 0.0  ...  0.064674          0.0   \n",
      "4  0.000000          0.0                 0.0  ...  0.000000          0.0   \n",
      "\n",
      "   yet still  yet take  york  young  young park  yrs      zero  zero balance  \n",
      "0        0.0       0.0   0.0    0.0         0.0  0.0  0.078769      0.093218  \n",
      "1        0.0       0.0   0.0    0.0         0.0  0.0  0.000000      0.000000  \n",
      "2        0.0       0.0   0.0    0.0         0.0  0.0  0.000000      0.000000  \n",
      "3        0.0       0.0   0.0    0.0         0.0  0.0  0.000000      0.000000  \n",
      "4        0.0       0.0   0.0    0.0         0.0  0.0  0.000000      0.000000  \n",
      "\n",
      "[5 rows x 10000 columns]\n",
      "(13180, 10000)\n"
     ]
    }
   ],
   "source": [
    "print(type(y_train))\n",
    "print(type(tfidf_train))\n",
    "print(tfidf_train.head())\n",
    "print(tfidf_train.shape)"
   ]
  },
  {
   "cell_type": "code",
   "execution_count": 248,
   "metadata": {},
   "outputs": [
    {
     "data": {
      "text/plain": [
       "'chi, p = chi2(tfidf_train, y_train)\\nprint(chi)\\nprint(p)'"
      ]
     },
     "execution_count": 248,
     "metadata": {},
     "output_type": "execute_result"
    }
   ],
   "source": [
    "'''chi, p = chi2(tfidf_train, y_train)\n",
    "print(chi)\n",
    "print(p)'''"
   ]
  },
  {
   "cell_type": "code",
   "execution_count": 249,
   "metadata": {},
   "outputs": [
    {
     "data": {
      "text/plain": [
       "'dfo = pd.DataFrame(y_train)\\ny_train2 = pd.concat([y_train.drop(dfo, axis=1), pd.get_dummies(dfo)], axis=1)\\ny_train2'"
      ]
     },
     "execution_count": 249,
     "metadata": {},
     "output_type": "execute_result"
    }
   ],
   "source": [
    "'''dfo = pd.DataFrame(y_train)\n",
    "y_train2 = pd.concat([y_train.drop(dfo, axis=1), pd.get_dummies(dfo)], axis=1)\n",
    "y_train2'''\n"
   ]
  },
  {
   "cell_type": "code",
   "execution_count": 250,
   "metadata": {},
   "outputs": [
    {
     "data": {
      "text/plain": [
       "'# chi-squared test to keep features\\n# onehot encode target variable? index predictors same as target variable\\n\\n\\nX_names = tfidf_vectorizer.get_feature_names()\\np_value_limit = 0.95\\nunique_y = [\\'Product_Bank account or service\\',\\n       \\'Product_Consumer Loan\\', \\'Product_Credit card or prepaid card\\',\\n       \\'Product_Credit reporting\\', \\'Product_Debt collection\\',\\n       \\'Product_Other financial service\\']\\n\\ndf_features = pd.DataFrame()\\nfor cat in unique_y:\\n    chi2, p = chi2(tfidf_train, y_train)\\n    df_features = df_features.append(pd.DataFrame({\"feature\":X_names, \"score\":1-p, \"y\":cat}))\\n    df_features = df_features.sort_values([\"y\",\"score\"], ascending=[True,False])\\n    df_features = df_features[df_features[\"score\"]>p_value_limit]\\nX_names = df_features[\"feature\"].unique().tolist()'"
      ]
     },
     "execution_count": 250,
     "metadata": {},
     "output_type": "execute_result"
    }
   ],
   "source": [
    "'''# chi-squared test to keep features\n",
    "# onehot encode target variable? index predictors same as target variable\n",
    "\n",
    "\n",
    "X_names = tfidf_vectorizer.get_feature_names()\n",
    "p_value_limit = 0.95\n",
    "unique_y = ['Product_Bank account or service',\n",
    "       'Product_Consumer Loan', 'Product_Credit card or prepaid card',\n",
    "       'Product_Credit reporting', 'Product_Debt collection',\n",
    "       'Product_Other financial service']\n",
    "\n",
    "df_features = pd.DataFrame()\n",
    "for cat in unique_y:\n",
    "    chi2, p = chi2(tfidf_train, y_train)\n",
    "    df_features = df_features.append(pd.DataFrame({\"feature\":X_names, \"score\":1-p, \"y\":cat}))\n",
    "    df_features = df_features.sort_values([\"y\",\"score\"], ascending=[True,False])\n",
    "    df_features = df_features[df_features[\"score\"]>p_value_limit]\n",
    "X_names = df_features[\"feature\"].unique().tolist()'''"
   ]
  },
  {
   "cell_type": "raw",
   "metadata": {},
   "source": []
  },
  {
   "cell_type": "code",
   "execution_count": 251,
   "metadata": {},
   "outputs": [
    {
     "name": "stdout",
     "output_type": "stream",
     "text": [
      "<class 'str'>\n",
      "<class 'str'>\n",
      "<class 'str'>\n",
      "<class 'str'>\n",
      "<class 'str'>\n",
      "<class 'str'>\n"
     ]
    }
   ],
   "source": [
    "unique_y = ['Bank account or service', 'Consumer Loan','Credit card or prepaid card', 'Credit reporting',\n",
    "           'Debt collection', 'Other financial service']\n",
    "\n",
    "df_features = pd.DataFrame()\n",
    "for cat in unique_y:\n",
    "    print(type(cat))"
   ]
  },
  {
   "cell_type": "code",
   "execution_count": 362,
   "metadata": {},
   "outputs": [],
   "source": [
    "# save train set\n",
    "save = os.path.join(save_path, 'data/processed', 'tfidf_train.csv')\n",
    "tfidf_train.to_csv(save)\n",
    "\n",
    "# save test set\n",
    "save = os.path.join(save_path, 'data/processed', 'tfidf_test.csv')\n",
    "tfidf_test.to_csv(save)"
   ]
  },
  {
   "cell_type": "markdown",
   "metadata": {},
   "source": [
    "# Steps - 11/18/20:\n",
    "\n",
    "1. Create Tf-Idf vectorizer\n",
    "    1. dimensionality reduction\n",
    "        2. \n",
    "2. Create classifier for Product\n",
    "3. Pipeline with vectorizer and classifier?\n",
    "3. Feature Engineering prior to prediction of severity sentiment\n",
    "4. Sentiment analysis to predict sentiment\n",
    "    1. TextBlob for polarity\n",
    "        1. Preprocess the complaint before TextBlob?\n",
    "    2. word2vec for word similarities\n",
    "    3. \n",
    "\n",
    "### Thoughts:\n",
    "- dimensionality reduction\n",
    "    - find optimal number of features\n",
    "    - chi squared test to find out dependence b/w feature and target\n",
    "        - only keep values with certain p-value indicating statistical significance and dependence b/w feature and target\n",
    "- train and run classifiers for product alignment of complaint - naive bayes?\n",
    "- figure out how to predict severity\n",
    "    - TextBlob or IBM Watson sentiment analysis to get polarity of complaint\n",
    "    - could use VADER for valence?\n",
    "        - was developed for tweets - could be applicable to written complaints\n",
    "    - creating other features using text column\n",
    "        - number of punctuation marks (indicator of emotionally charged statement)\n",
    "        - number of words, sentences in each complaint\n",
    "    - consumer disputed column?\n",
    "        - discontinued 4/23/17 - latest date in data is 9/9/17\n",
    "        - could be indicator or the severity of complaint\n",
    "- recommend next action based on product alignment and severity\n",
    "\n",
    "### Ideas:\n",
    "- highly sensitive products?\n",
    "- within each class - most common words - highest tfidf weight\n",
    "- pipeline\n",
    "    - gridsearch on pipeline?\n",
    "- spaCy\n",
    "    - word2vec NN\n",
    "- evaluation methods\n",
    "    - confusion matrix\n",
    "    - ROC curve\n",
    "    - classification report\n",
    "    \n",
    "### Value Calc:\n",
    "- Exec and team all making 150k-250k reviewing complaints is expensive\n",
    "- model that categorizes, analyzes severity could highlight areas in the business that have issues and allow team to focus there instead of spending time reading reviews and gaining insight manually\n",
    "\n"
   ]
  },
  {
   "cell_type": "code",
   "execution_count": null,
   "metadata": {},
   "outputs": [],
   "source": []
  },
  {
   "cell_type": "code",
   "execution_count": null,
   "metadata": {},
   "outputs": [],
   "source": []
  },
  {
   "cell_type": "code",
   "execution_count": null,
   "metadata": {},
   "outputs": [],
   "source": []
  },
  {
   "cell_type": "code",
   "execution_count": null,
   "metadata": {},
   "outputs": [],
   "source": []
  },
  {
   "cell_type": "code",
   "execution_count": null,
   "metadata": {},
   "outputs": [],
   "source": []
  },
  {
   "cell_type": "markdown",
   "metadata": {},
   "source": [
    "# Modeling - Predict Product Alignment\n",
    "\n",
    "### Create a classifier that will predict which product the complaint is aligned to \n",
    "- This will allow the end user of this model to be able to identify areas with a higher number of complaints with respect to others"
   ]
  },
  {
   "cell_type": "code",
   "execution_count": null,
   "metadata": {},
   "outputs": [],
   "source": [
    "# gridsearch on random forest \n",
    "\n",
    "max_depth = [5, 15, 30, 50, 100]\n",
    "max_depth.append(None)\n",
    "criterion = ('gini', 'entropy')\n",
    "max_features = ('auto', 'sqrt')\n",
    "min_samples_split = [2, 5, 7, 10]\n",
    "min_samples_leaf = [1, 2, 4, 7, 10]\n",
    "\n",
    "param_grid = {\n",
    "    'max_depth':max_depth,\n",
    "    'criterion':criterion,\n",
    "    'max_features':max_features,\n",
    "    'min_samples_split':min_samples_split,\n",
    "    'min_samples_leaf':min_samples_leaf\n",
    "}\n",
    "\n",
    "rf = RandomForestClassifier(random_state=34)\n",
    "\n",
    "gs = GridSearchCV(rf, param_grid=param_grid, cv=3, verbose=2, n_jobs = -1)\n",
    "\n",
    "\n",
    "\n"
   ]
  },
  {
   "cell_type": "code",
   "execution_count": 349,
   "metadata": {},
   "outputs": [
    {
     "name": "stdout",
     "output_type": "stream",
     "text": [
      "Runtime: 1.3 minutes\n"
     ]
    }
   ],
   "source": [
    "# Random forest classifier to predict complaint category\n",
    "\n",
    "t0 = time()\n",
    "y_train = y_train.ravel()\n",
    "rf_classifier = RandomForestClassifier(random_state=34)\n",
    "rf_classifier.fit(tfidf_train, y_train)\n",
    "y_pred = rf_classifier.predict(tfidf_test)\n",
    "y_pred_proba = rf_classifier.predict_proba(tfidf_test)\n",
    "print('Runtime:', round((time() - t0) / 60,1), 'minutes')"
   ]
  },
  {
   "cell_type": "code",
   "execution_count": 350,
   "metadata": {},
   "outputs": [
    {
     "name": "stdout",
     "output_type": "stream",
     "text": [
      "                             precision    recall  f1-score   support\n",
      "\n",
      "    Bank account or service       0.98      0.99      0.98       542\n",
      "              Consumer Loan       0.94      0.88      0.91       543\n",
      "Credit card or prepaid card       0.96      0.98      0.97       545\n",
      "           Credit reporting       0.92      0.94      0.93       557\n",
      "            Debt collection       0.93      0.93      0.93       548\n",
      "    Other financial service       1.00      1.00      1.00       561\n",
      "\n",
      "                   accuracy                           0.95      3296\n",
      "                  macro avg       0.95      0.95      0.95      3296\n",
      "               weighted avg       0.95      0.95      0.95      3296\n",
      "\n"
     ]
    },
    {
     "data": {
      "image/png": "[encoded data removed]",
      "text/plain": [
       "<Figure size 504x360 with 2 Axes>"
      ]
     },
     "metadata": {},
     "output_type": "display_data"
    }
   ],
   "source": [
    "print(metrics.classification_report(y_test, y_pred, zero_division=0))\n",
    "\n",
    "matrix = metrics.confusion_matrix(y_test, y_pred)\n",
    "matrix = matrix.astype('float') / matrix.sum(axis=1)[:, np.newaxis]\n",
    "\n",
    "# Build the plot\n",
    "plt.figure(figsize=(7,5))\n",
    "sns.set(font_scale=1.4)\n",
    "sns.heatmap(matrix, annot=True, annot_kws={'size':10},\n",
    "            cmap=plt.cm.Greens, linewidths=0.2)\n",
    "\n",
    "# Add labels to the plot\n",
    "plt.xlabel('Predicted label')\n",
    "plt.ylabel('True label')\n",
    "plt.title('Confusion Matrix')\n",
    "plt.show()\n",
    "\n",
    "#With Upsampled data to make balanced classes, 10000 features, 50k rows imported"
   ]
  },
  {
   "cell_type": "code",
   "execution_count": 360,
   "metadata": {},
   "outputs": [
    {
     "data": {
      "image/png": "[encoded data removed]",
      "text/plain": [
       "<Figure size 1440x720 with 2 Axes>"
      ]
     },
     "metadata": {
      "needs_background": "light"
     },
     "output_type": "display_data"
    }
   ],
   "source": [
    "# Plot ROC and Precision-Recall curves\n",
    "classes = np.unique(y_test)\n",
    "y_test_array = pd.get_dummies(y_test, drop_first=False).values\n",
    "\n",
    "fig, ax = plt.subplots(1, 2, figsize=(20,10))\n",
    "## Plot roc\n",
    "for i in range(len(classes)):\n",
    "    fpr, tpr, thresholds = metrics.roc_curve(y_test_array[:,i],  \n",
    "                           y_pred_proba[:,i])\n",
    "    ax[0].plot(fpr, tpr, lw=3, \n",
    "              label='{0} (area={1:0.2f})'.format(classes[i], \n",
    "                              metrics.auc(fpr, tpr))\n",
    "               )\n",
    "ax[0].plot([0,1], [0,1], color='navy', lw=3, linestyle='--')\n",
    "ax[0].set(xlim=[-0.05,1.0], ylim=[0.0,1.05], \n",
    "          xlabel='False Positive Rate', \n",
    "          ylabel=\"True Positive Rate (Recall)\", \n",
    "          title=\"ROC Curve\")\n",
    "ax[0].legend(loc=\"lower right\")\n",
    "ax[0].grid(True)\n",
    "\n",
    "## Plot precision-recall curve\n",
    "for i in range(len(classes)):\n",
    "    precision, recall, thresholds = metrics.precision_recall_curve(\n",
    "                 y_test_array[:,i], y_pred_proba[:,i])\n",
    "    ax[1].plot(recall, precision, lw=3, \n",
    "               label='{0} (area={1:0.2f})'.format(classes[i], \n",
    "                                  metrics.auc(recall, precision))\n",
    "              )\n",
    "ax[1].set(xlim=[0.0,1.05], ylim=[0.0,1.05], xlabel='Recall', \n",
    "          ylabel=\"Precision\", title=\"Precision-Recall curve\")\n",
    "ax[1].legend(loc=\"best\")\n",
    "ax[1].grid(True)\n",
    "plt.show()"
   ]
  },
  {
   "cell_type": "code",
   "execution_count": null,
   "metadata": {},
   "outputs": [],
   "source": []
  },
  {
   "cell_type": "code",
   "execution_count": null,
   "metadata": {},
   "outputs": [],
   "source": []
  },
  {
   "cell_type": "code",
   "execution_count": null,
   "metadata": {},
   "outputs": [],
   "source": []
  },
  {
   "cell_type": "code",
   "execution_count": null,
   "metadata": {},
   "outputs": [],
   "source": []
  },
  {
   "cell_type": "code",
   "execution_count": null,
   "metadata": {},
   "outputs": [],
   "source": []
  },
  {
   "cell_type": "code",
   "execution_count": null,
   "metadata": {},
   "outputs": [],
   "source": []
  }
 ],
 "metadata": {
  "kernelspec": {
   "display_name": "Python 3",
   "language": "python",
   "name": "python3"
  },
  "language_info": {
   "codemirror_mode": {
    "name": "ipython",
    "version": 3
   },
   "file_extension": ".py",
   "mimetype": "text/x-python",
   "name": "python",
   "nbconvert_exporter": "python",
   "pygments_lexer": "ipython3",
   "version": "3.7.6"
  }
 },
 "nbformat": 4,
 "nbformat_minor": 4
}
